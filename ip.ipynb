{
 "cells": [
  {
   "cell_type": "code",
   "execution_count": 2,
   "metadata": {},
   "outputs": [],
   "source": [
    "from  scapy.all import *\n",
    "import netifaces\n",
    "import datetime\n",
    "import ipaddress"
   ]
  },
  {
   "cell_type": "code",
   "execution_count": 3,
   "metadata": {},
   "outputs": [],
   "source": [
    "def check_ip (ip_addr):\n",
    "    tmp=int(ipaddress.IPv4Address(ip_addr))\n",
    "    if (ip_addr>3415330560 and ip_addr<3415330814):\n",
    "        return (ip_addr-3415330560)\n",
    "    else:\n",
    "        return -1"
   ]
  },
  {
   "cell_type": "code",
   "execution_count": null,
   "metadata": {},
   "outputs": [],
   "source": [
    "counter=0\n",
    "    while(1):\n",
    "        catch =sniff (iface='eth0',filter =\"ip or arp\" ,timeout=3600)\n",
    "        lenth=len(catch)\n",
    "        ip=[False]*253\n",
    "        for i in range(lenth):\n",
    "            frametype=int(catch[i][0].type)\n",
    "            if (frametype==2048):\n",
    "                check=check_ip(catch[i][IP].src)\n",
    "                if (check!=-1):\n",
    "                    ip[check]=True\n",
    "\n",
    "            elif (frametype==2054):\n",
    "                check=check_ip(catch[i][ARP].psrc)\n",
    "                if (check!=-1):\n",
    "                    ip[check]=True\n",
    "                check=check_ip(catch[i][ARP].pdst)\n",
    "                if (check!=-1):\n",
    "                    ip[check]=True\n",
    "\n",
    "        filename='ip'+str(counter)+'.txt'\n",
    "        f = open(filename,'w')\n",
    "        for i in range(254):\n",
    "            if (ip[i]==False):\n",
    "                file_write=str(i)+'\\n'\n",
    "                f.write(file_write)\n",
    "        f.close()  \n",
    "        counter+=1"
   ]
  }
 ],
 "metadata": {
  "kernelspec": {
   "display_name": "Python 3",
   "language": "python",
   "name": "python3"
  },
  "language_info": {
   "codemirror_mode": {
    "name": "ipython",
    "version": 3
   },
   "file_extension": ".py",
   "mimetype": "text/x-python",
   "name": "python",
   "nbconvert_exporter": "python",
   "pygments_lexer": "ipython3",
   "version": "3.7.3"
  }
 },
 "nbformat": 4,
 "nbformat_minor": 2
}
