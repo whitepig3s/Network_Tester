{
 "cells": [
  {
   "cell_type": "code",
   "execution_count": 157,
   "metadata": {},
   "outputs": [
    {
     "name": "stdout",
     "output_type": "stream",
     "text": [
      "Ping Google DNS...\n",
      "Received 10 packet.\n",
      "Sucess\n",
      "Finished Test.\n"
     ]
    }
   ],
   "source": [
    "from  scapy.all import *\n",
    "import netifaces\n",
    "from subprocess import run\n",
    "\n",
    "print (\"Ping Google DNS...\")\n",
    "ping_google=subprocess.getoutput('ping 8.8.8.8 -c 10')\n",
    "ping_google=ping_google.split(',')\n",
    "received=int((ping_google[1].split(' '))[1])\n",
    "ping_google_result=\"Received %d packet.\" %(received)\n",
    "print (ping_google_result)\n",
    "if (received>=9):\n",
    "    print (\"Sucess\")\n",
    "else:\n",
    "    print (\"Somethng wrong in the network.\")\n",
    "    print ('Searching problem...')\n",
    "    carrier=open('/sys/class/net/eth0/carrier','r') \n",
    "    connect=carrier.readline()\n",
    "    if (connect=='0\\n'):\n",
    "        print (\"operstate: down\")\n",
    "    else:\n",
    "        print (\"operstate: up\")\n",
    "        \n",
    "        '''IP state'''\n",
    "        interface=open('/etc/network/interfaces','r')\n",
    "        state=interface.readlines()\n",
    "        static=False\n",
    "        for i in state:\n",
    "            if (0<i.find(\"static\")):\n",
    "                static=True\n",
    "        if (static==True):        \n",
    "            print(\"IP state: Static\")\n",
    "        else:\n",
    "            print(\"IP state: DHCP\")\n",
    "            \n",
    "        '''print network_inf'''\n",
    "        addr=netifaces.ifaddresses('eth0')[2][0]['addr']\n",
    "        netmask=netifaces.ifaddresses('eth0')[2][0]['netmask']\n",
    "        gateway=netifaces.gateways()[2][0][0]\n",
    "        network_inf = \"Address: %s\\nNetmask: %s\\nGateway: %s\"%(addr,netmask,gateway)\n",
    "        print (network_inf)\n",
    "        \n",
    "        print (\"Ping Gateway...\")\n",
    "        ping_gw='ping '+gateway+\" -c 10\"\n",
    "        gw_test=subprocess.getoutput(ping_gw)\n",
    "        ping_gw_result=(gw_test.split(','))[1]\n",
    "        ping_gw_result=int(ping_gw_result.split(' ')[1])\n",
    "        \n",
    "        if (ping_gw_result>=9):\n",
    "            print (\"Sucess\")\n",
    "        else:\n",
    "            print (\"Failed\")\n",
    "print(\"Finished Test.\")"
   ]
  },
  {
   "cell_type": "code",
   "execution_count": 138,
   "metadata": {},
   "outputs": [
    {
     "name": "stdout",
     "output_type": "stream",
     "text": [
      "0000 Ether / IP / UDP 120.101.8.107:50593 > 239.255.255.250:1900 / Raw\n",
      "0001 Ether / IP / UDP 120.101.8.123:35865 > 239.255.255.250:1900 / Raw\n",
      "0002 Ether / ARP who has 120.101.8.254 says 120.101.8.95\n",
      "0003 Ether / ARP is at 00:1e:7a:56:e2:c0 says 120.101.8.254 / Padding\n",
      "0004 Ether / ARP who has 120.101.8.205 says 120.101.8.112 / Padding\n",
      "0005 Ether / ARP who has 120.101.8.254 says 120.101.8.38 / Padding\n",
      "0006 Ether / IP / UDP 169.254.164.194:61424 > 239.255.255.250:1900 / Raw\n",
      "0007 Ether / IPv6 / UDP fe80::d535:4eb7:b753:aba3:58396 > ff02::c:1900 / Raw\n",
      "0008 Ether / IP / UDP 120.101.8.78:50250 > 239.255.255.250:1900 / Raw\n",
      "0009 Ether / IPv6 / UDP fe80::3d37:f76e:f53f:dcd8:50380 > ff02::c:1900 / Raw\n",
      "0010 Ether / ARP who has 120.101.8.205 says 120.101.8.112 / Padding\n",
      "0011 Ether / ARP who has 120.101.8.246 says 120.101.8.254 / Padding\n",
      "0012 Ether / IP / UDP 120.101.8.78:50250 > 239.255.255.250:1900 / Raw\n",
      "0013 Ether / IP / UDP 120.101.8.78:50250 > 239.255.255.250:1900 / Raw\n",
      "0014 Ether / IP / UDP 120.101.8.123:60713 > 239.255.255.250:1900 / Raw\n",
      "0015 Ether / IP / UDP 120.101.8.123:60713 > 239.255.255.250:1900 / Raw\n",
      "0016 Ether / IP / UDP 120.101.8.123:60713 > 239.255.255.250:1900 / Raw\n",
      "0017 Ether / IP / UDP 120.101.8.123:60713 > 239.255.255.250:1900 / Raw\n",
      "0018 Ether / IP / UDP 120.101.8.123:60713 > 239.255.255.250:1900 / Raw\n",
      "0019 Ether / IP / UDP 120.101.8.123:60713 > 239.255.255.250:1900 / Raw\n",
      "0020 Ether / IP / UDP 169.254.164.194:61424 > 239.255.255.250:1900 / Raw\n",
      "0021 Ether / ARP who has 120.101.8.246 says 120.101.8.254 / Padding\n",
      "0022 Ether / IP / UDP 120.101.8.78:50250 > 239.255.255.250:1900 / Raw\n",
      "0023 Ether / IPv6 / UDP fe80::d535:4eb7:b753:aba3:58396 > ff02::c:1900 / Raw\n",
      "0024 Ether / IPv6 / UDP fe80::3d37:f76e:f53f:dcd8:50380 > ff02::c:1900 / Raw\n",
      "0025 Ether / ARP who has 120.101.8.111 says 120.101.8.217 / Padding\n",
      "0026 Ether / IP / UDP 169.254.164.194:61424 > 239.255.255.250:1900 / Raw\n",
      "0027 Ether / ARP who has 120.101.8.111 says 120.101.8.217 / Padding\n",
      "0028 Ether / ARP who has 120.101.8.43 says 120.101.8.63 / Padding\n",
      "0029 Ether / IPv6 / UDP fe80::d535:4eb7:b753:aba3:58396 > ff02::c:1900 / Raw\n",
      "0030 Ether / IPv6 / UDP fe80::3d37:f76e:f53f:dcd8:50380 > ff02::c:1900 / Raw\n",
      "0031 Ether / ARP who has 120.101.8.111 says 120.101.8.217 / Padding\n",
      "0032 Ether / IP / UDP 120.101.8.134:59654 > 239.255.255.250:1900 / Raw\n"
     ]
    }
   ],
   "source": [
    "from  scapy.all import *\n",
    "catch =sniff (iface='eth0',filter =\"udp port 1900 or arp\" ,timeout=10)\n",
    "catch.show()\n"
   ]
  },
  {
   "cell_type": "code",
   "execution_count": 139,
   "metadata": {},
   "outputs": [
    {
     "data": {
      "text/plain": [
       "<Sniffed: TCP:0 UDP:22 ICMP:0 Other:11>"
      ]
     },
     "execution_count": 139,
     "metadata": {},
     "output_type": "execute_result"
    }
   ],
   "source": [
    "catch"
   ]
  },
  {
   "cell_type": "code",
   "execution_count": 140,
   "metadata": {},
   "outputs": [
    {
     "data": {
      "text/plain": [
       "<Sniffed: TCP:0 UDP:45 ICMP:0 Other:59>"
      ]
     },
     "execution_count": 140,
     "metadata": {},
     "output_type": "execute_result"
    }
   ],
   "source": [
    "from  scapy.all import *\n",
    "catch =sniff (iface='eth0',filter =\"ip and udp port 1900 or arp\" ,timeout=30)\n",
    "catch"
   ]
  },
  {
   "cell_type": "code",
   "execution_count": 141,
   "metadata": {},
   "outputs": [
    {
     "name": "stdout",
     "output_type": "stream",
     "text": [
      "0000 Ether / ARP who has 120.101.8.1 says 120.101.8.86 / Padding\n",
      "0001 Ether / ARP who has 120.101.8.205 says 120.101.8.112 / Padding\n",
      "0002 Ether / ARP who has 120.101.8.78 says 120.101.8.217 / Padding\n",
      "0003 Ether / IP / UDP 192.168.0.254:1025 > 239.255.255.250:1900 / Raw\n",
      "0004 Ether / ARP who has 120.101.8.6 says 120.101.8.254 / Padding\n",
      "0005 Ether / IP / UDP 192.168.0.254:1025 > 239.255.255.250:1900 / Raw\n",
      "0006 Ether / IP / UDP 192.168.0.254:1025 > 239.255.255.250:1900 / Raw\n",
      "0007 Ether / IP / UDP 192.168.0.254:1025 > 239.255.255.250:1900 / Raw\n",
      "0008 Ether / IP / UDP 192.168.0.254:1025 > 239.255.255.250:1900 / Raw\n",
      "0009 Ether / IP / UDP 192.168.0.254:1025 > 239.255.255.250:1900 / Raw\n",
      "0010 Ether / IP / UDP 192.168.0.254:1025 > 239.255.255.250:1900 / Raw\n",
      "0011 Ether / IP / UDP 192.168.0.254:1025 > 239.255.255.250:1900 / Raw\n",
      "0012 Ether / IP / UDP 192.168.0.254:1025 > 239.255.255.250:1900 / Raw\n",
      "0013 Ether / IP / UDP 192.168.0.254:1025 > 239.255.255.250:1900 / Raw\n",
      "0014 Ether / ARP who has 120.101.8.251 says 120.101.8.254 / Padding\n",
      "0015 Ether / IP / UDP 120.101.8.123:51444 > 239.255.255.250:1900 / Raw\n",
      "0016 Ether / IP / UDP 120.101.8.134:59654 > 239.255.255.250:1900 / Raw\n",
      "0017 Ether / ARP who has 120.101.8.11 says 120.101.8.254 / Padding\n",
      "0018 Ether / IP / UDP 120.101.8.123:51444 > 239.255.255.250:1900 / Raw\n",
      "0019 Ether / IP / UDP 120.101.8.123:51444 > 239.255.255.250:1900 / Raw\n",
      "0020 Ether / IP / UDP 120.101.8.123:51444 > 239.255.255.250:1900 / Raw\n",
      "0021 Ether / ARP who has 120.101.8.205 says 120.101.8.112 / Padding\n",
      "0022 Ether / IP / UDP 120.101.8.123:51444 > 239.255.255.250:1900 / Raw\n",
      "0023 Ether / IP / UDP 120.101.8.123:51444 > 239.255.255.250:1900 / Raw\n",
      "0024 Ether / IP / UDP 120.101.8.134:59654 > 239.255.255.250:1900 / Raw\n",
      "0025 Ether / ARP who has 120.101.8.248 says 120.101.8.254 / Padding\n",
      "0026 Ether / ARP who has 120.101.8.205 says 120.101.8.112 / Padding\n",
      "0027 Ether / ARP who has 169.254.169.254 says 120.101.8.143 / Padding\n",
      "0028 Ether / ARP who has 120.101.8.67 says 120.101.8.74 / Padding\n",
      "0029 Ether / IP / UDP 120.101.8.134:59654 > 239.255.255.250:1900 / Raw\n",
      "0030 Ether / ARP who has 169.254.169.254 says 120.101.8.143 / Padding\n",
      "0031 Ether / ARP who has 120.101.8.211 says 120.101.8.114 / Padding\n",
      "0032 Ether / ARP who has 120.101.8.1 says 120.101.8.114 / Padding\n",
      "0033 Ether / ARP who has 120.101.8.184 says 120.101.8.254 / Padding\n",
      "0034 Ether / ARP who has 120.101.8.12 says 120.101.8.254 / Padding\n",
      "0035 Ether / ARP who has 169.254.169.254 says 120.101.8.143 / Padding\n",
      "0036 Ether / IP / UDP 120.101.8.116:50701 > 239.255.255.250:1900 / Raw\n",
      "0037 Ether / ARP who has 120.101.8.21 says 120.101.8.254 / Padding\n",
      "0038 Ether / ARP who has 120.101.8.16 says 120.101.8.254 / Padding\n",
      "0039 Ether / IP / UDP 120.101.8.116:50701 > 239.255.255.250:1900 / Raw\n",
      "0040 Ether / IP / UDP 120.101.8.116:50701 > 239.255.255.250:1900 / Raw\n",
      "0041 Ether / ARP who has 120.101.8.111 says 120.101.8.217 / Padding\n",
      "0042 Ether / ARP who has 120.101.8.136 says 120.101.8.122 / Padding\n",
      "0043 Ether / IP / UDP 120.101.8.116:50701 > 239.255.255.250:1900 / Raw\n",
      "0044 Ether / ARP who has 120.101.8.111 says 120.101.8.217 / Padding\n",
      "0045 Ether / ARP who has 120.101.8.111 says 120.101.8.110 / Padding\n",
      "0046 Ether / ARP who has 120.101.8.6 says 120.101.8.254 / Padding\n",
      "0047 Ether / ARP who has 120.101.8.111 says 120.101.8.110 / Padding\n",
      "0048 Ether / ARP who has 120.101.8.1 says 120.101.8.78 / Padding\n",
      "0049 Ether / ARP who has 120.101.8.111 says 120.101.8.217 / Padding\n",
      "0050 Ether / ARP who has 120.101.8.251 says 120.101.8.254 / Padding\n",
      "0051 Ether / ARP who has 120.101.8.184 says 120.101.8.254 / Padding\n",
      "0052 Ether / ARP who has 120.101.8.254 says 120.101.8.233 / Padding\n",
      "0053 Ether / ARP who has 120.101.8.111 says 120.101.8.110 / Padding\n",
      "0054 Ether / ARP who has 120.101.8.205 says 120.101.8.112 / Padding\n",
      "0055 Ether / IP / UDP 120.101.8.131:61540 > 239.255.255.250:1900 / Raw\n",
      "0056 Ether / ARP who has 120.101.8.205 says 120.101.8.112 / Padding\n",
      "0057 Ether / IP / UDP 120.101.8.131:61540 > 239.255.255.250:1900 / Raw\n",
      "0058 Ether / ARP who has 120.101.8.205 says 120.101.8.112 / Padding\n",
      "0059 Ether / IP / UDP 120.101.8.131:61540 > 239.255.255.250:1900 / Raw\n",
      "0060 Ether / ARP who has 120.101.8.205 says 120.101.8.254 / Padding\n",
      "0061 Ether / IP / UDP 120.101.8.131:61540 > 239.255.255.250:1900 / Raw\n",
      "0062 Ether / ARP who has 120.101.8.14 says 120.101.8.254 / Padding\n",
      "0063 Ether / IP / UDP 120.101.8.117:59437 > 239.255.255.250:1900 / Raw\n",
      "0064 Ether / ARP who has 120.101.8.251 says 120.101.8.254 / Padding\n",
      "0065 Ether / IP / UDP 120.101.8.117:59437 > 239.255.255.250:1900 / Raw\n",
      "0066 Ether / ARP who has 120.101.8.247 says 120.101.8.254 / Padding\n",
      "0067 Ether / IP / UDP 120.101.8.117:59437 > 239.255.255.250:1900 / Raw\n",
      "0068 Ether / ARP who has 120.101.8.63 says 120.101.8.214 / Padding\n",
      "0069 Ether / ARP who has 120.101.8.14 says 120.101.8.254 / Padding\n",
      "0070 Ether / ARP who has 120.101.8.223 says 120.101.8.254 / Padding\n",
      "0071 Ether / IP / UDP 120.101.8.117:59437 > 239.255.255.250:1900 / Raw\n",
      "0072 Ether / ARP who has 120.101.8.111 says 120.101.8.217 / Padding\n",
      "0073 Ether / ARP who has 120.101.8.111 says 120.101.8.217 / Padding\n",
      "0074 Ether / ARP who has 120.101.8.111 says 120.101.8.110 / Padding\n",
      "0075 Ether / ARP who has 120.101.8.111 says 120.101.8.110 / Padding\n",
      "0076 Ether / ARP who has 120.101.8.111 says 120.101.8.217 / Padding\n",
      "0077 Ether / ARP who has 120.101.8.111 says 120.101.8.110 / Padding\n",
      "0078 Ether / ARP who has 120.101.8.215 says 120.101.8.86 / Padding\n",
      "0079 Ether / IP / UDP 192.168.0.254:1025 > 239.255.255.250:1900 / Raw\n",
      "0080 Ether / IP / UDP 192.168.0.254:1025 > 239.255.255.250:1900 / Raw\n",
      "0081 Ether / IP / UDP 192.168.0.254:1025 > 239.255.255.250:1900 / Raw\n",
      "0082 Ether / IP / UDP 192.168.0.254:1025 > 239.255.255.250:1900 / Raw\n",
      "0083 Ether / IP / UDP 192.168.0.254:1025 > 239.255.255.250:1900 / Raw\n",
      "0084 Ether / IP / UDP 192.168.0.254:1025 > 239.255.255.250:1900 / Raw\n",
      "0085 Ether / IP / UDP 192.168.0.254:1025 > 239.255.255.250:1900 / Raw\n",
      "0086 Ether / IP / UDP 192.168.0.254:1025 > 239.255.255.250:1900 / Raw\n",
      "0087 Ether / IP / UDP 192.168.0.254:1025 > 239.255.255.250:1900 / Raw\n",
      "0088 Ether / IP / UDP 192.168.0.254:1025 > 239.255.255.250:1900 / Raw\n",
      "0089 Ether / ARP who has 120.101.8.215 says 120.101.8.86 / Padding\n",
      "0090 Ether / ARP who has 120.101.8.254 says 120.101.8.38 / Padding\n",
      "0091 Ether / ARP who has 120.101.8.214 says 120.101.8.63 / Padding\n",
      "0092 Ether / ARP who has 120.101.8.215 says 120.101.8.86 / Padding\n",
      "0093 Ether / ARP who has 120.101.8.254 says 120.101.8.128 / Padding\n",
      "0094 Ether / IP / UDP 120.101.8.110:59019 > 239.255.255.250:1900 / Raw\n",
      "0095 Ether / ARP who has 120.101.8.221 says 120.101.8.254 / Padding\n",
      "0096 Ether / IP / UDP 120.101.8.110:59019 > 239.255.255.250:1900 / Raw\n",
      "0097 Ether / ARP who has 120.101.8.16 says 120.101.8.254 / Padding\n",
      "0098 Ether / IP / UDP 120.101.8.110:59019 > 239.255.255.250:1900 / Raw\n",
      "0099 Ether / ARP who has 120.101.8.111 says 120.101.8.110 / Padding\n",
      "0100 Ether / ARP who has 120.101.8.111 says 120.101.8.110 / Padding\n",
      "0101 Ether / IP / UDP 120.101.8.110:59019 > 239.255.255.250:1900 / Raw\n",
      "0102 Ether / ARP who has 120.101.8.6 says 120.101.8.254 / Padding\n",
      "0103 Ether / ARP who has 120.101.8.111 says 120.101.8.110 / Padding\n"
     ]
    }
   ],
   "source": [
    "catch.show()"
   ]
  },
  {
   "cell_type": "code",
   "execution_count": 142,
   "metadata": {},
   "outputs": [
    {
     "name": "stdout",
     "output_type": "stream",
     "text": [
      "###[ Ethernet ]### \n",
      "  dst       = ff:ff:ff:ff:ff:ff\n",
      "  src       = 10:bf:48:d5:25:c0\n",
      "  type      = 0x806\n",
      "###[ ARP ]### \n",
      "     hwtype    = 0x1\n",
      "     ptype     = 0x800\n",
      "     hwlen     = 6\n",
      "     plen      = 4\n",
      "     op        = who-has\n",
      "     hwsrc     = 10:bf:48:d5:25:c0\n",
      "     psrc      = 120.101.8.112\n",
      "     hwdst     = 00:00:00:00:00:00\n",
      "     pdst      = 120.101.8.205\n",
      "###[ Padding ]### \n",
      "        load      = '\\x00\\x00\\x00\\x00\\x00\\x00\\x00\\x00\\x00\\x00\\x00\\x00\\x00\\x00\\x00\\x00\\x00\\x00'\n",
      "\n",
      "None\n"
     ]
    }
   ],
   "source": [
    "print (catch[1][0].show())"
   ]
  },
  {
   "cell_type": "code",
   "execution_count": 143,
   "metadata": {},
   "outputs": [
    {
     "name": "stdout",
     "output_type": "stream",
     "text": [
      "###[ Ethernet ]### \n",
      "  dst       = ff:ff:ff:ff:ff:ff\n",
      "  src       = 10:bf:48:d5:25:c0\n",
      "  type      = 0x806\n",
      "###[ ARP ]### \n",
      "     hwtype    = 0x1\n",
      "     ptype     = 0x800\n",
      "     hwlen     = 6\n",
      "     plen      = 4\n",
      "     op        = who-has\n",
      "     hwsrc     = 10:bf:48:d5:25:c0\n",
      "     psrc      = 120.101.8.112\n",
      "     hwdst     = 00:00:00:00:00:00\n",
      "     pdst      = 120.101.8.205\n",
      "###[ Padding ]### \n",
      "        load      = '\\x00\\x00\\x00\\x00\\x00\\x00\\x00\\x00\\x00\\x00\\x00\\x00\\x00\\x00\\x00\\x00\\x00\\x00'\n",
      "\n",
      "None\n",
      "###[ Ethernet ]### \n",
      "  dst       = 01:00:5e:7f:ff:fa\n",
      "  src       = c4:e9:84:46:32:48\n",
      "  type      = 0x800\n",
      "###[ IP ]### \n",
      "     version   = 4\n",
      "     ihl       = 5\n",
      "     tos       = 0x0\n",
      "     len       = 385\n",
      "     id        = 62050\n",
      "     flags     = \n",
      "     frag      = 0\n",
      "     ttl       = 4\n",
      "     proto     = udp\n",
      "     chksum    = 0x1169\n",
      "     src       = 192.168.0.254\n",
      "     dst       = 239.255.255.250\n",
      "     \\options   \\\n",
      "###[ UDP ]### \n",
      "        sport     = 1025\n",
      "        dport     = 1900\n",
      "        len       = 365\n",
      "        chksum    = 0x7283\n",
      "###[ Raw ]### \n",
      "           load      = 'NOTIFY * HTTP/1.1\\r\\nHOST: 239.255.255.250:1900\\r\\nCACHE-CONTROL: max-age=100\\r\\nLOCATION: http://192.168.0.254:1900/igd.xml\\r\\nNT: urn:schemas-upnp-org:device:WANConnectionDevice:1\\r\\nNTS: ssdp:alive\\r\\nSERVER: TP-LINK Wireless N Nano Router WR702N, UPnP/1.0\\r\\nUSN: uuid:upnp-WANConnectionDevice-192168025478900001::urn:schemas-upnp-org:device:WANConnectionDevice:1\\r\\n\\r\\n'\n",
      "\n",
      "None\n"
     ]
    }
   ],
   "source": [
    "lenth=len(catch)\n",
    "lenth\n",
    "print (catch[1][0].show())\n",
    "print (catch[12][0].show())"
   ]
  },
  {
   "cell_type": "code",
   "execution_count": 144,
   "metadata": {},
   "outputs": [
    {
     "name": "stdout",
     "output_type": "stream",
     "text": [
      "ARP\n",
      "120.101.8.86\n",
      "ARP\n",
      "120.101.8.112\n",
      "ARP\n",
      "120.101.8.217\n",
      "192.168.0.254\n",
      "ARP\n",
      "120.101.8.254\n",
      "192.168.0.254\n",
      "192.168.0.254\n",
      "192.168.0.254\n",
      "192.168.0.254\n",
      "192.168.0.254\n",
      "192.168.0.254\n",
      "192.168.0.254\n",
      "192.168.0.254\n",
      "192.168.0.254\n",
      "ARP\n",
      "120.101.8.254\n",
      "120.101.8.123\n",
      "120.101.8.134\n",
      "ARP\n",
      "120.101.8.254\n",
      "120.101.8.123\n",
      "120.101.8.123\n",
      "120.101.8.123\n",
      "ARP\n",
      "120.101.8.112\n",
      "120.101.8.123\n",
      "120.101.8.123\n",
      "120.101.8.134\n",
      "ARP\n",
      "120.101.8.254\n",
      "ARP\n",
      "120.101.8.112\n",
      "ARP\n",
      "120.101.8.143\n",
      "ARP\n",
      "120.101.8.74\n",
      "120.101.8.134\n",
      "ARP\n",
      "120.101.8.143\n",
      "ARP\n",
      "120.101.8.114\n",
      "ARP\n",
      "120.101.8.114\n",
      "ARP\n",
      "120.101.8.254\n",
      "ARP\n",
      "120.101.8.254\n",
      "ARP\n",
      "120.101.8.143\n",
      "120.101.8.116\n",
      "ARP\n",
      "120.101.8.254\n",
      "ARP\n",
      "120.101.8.254\n",
      "120.101.8.116\n",
      "120.101.8.116\n",
      "ARP\n",
      "120.101.8.217\n",
      "ARP\n",
      "120.101.8.122\n",
      "120.101.8.116\n",
      "ARP\n",
      "120.101.8.217\n",
      "ARP\n",
      "120.101.8.110\n",
      "ARP\n",
      "120.101.8.254\n",
      "ARP\n",
      "120.101.8.110\n",
      "ARP\n",
      "120.101.8.78\n",
      "ARP\n",
      "120.101.8.217\n",
      "ARP\n",
      "120.101.8.254\n",
      "ARP\n",
      "120.101.8.254\n",
      "ARP\n",
      "120.101.8.233\n",
      "ARP\n",
      "120.101.8.110\n",
      "ARP\n",
      "120.101.8.112\n",
      "120.101.8.131\n",
      "ARP\n",
      "120.101.8.112\n",
      "120.101.8.131\n",
      "ARP\n",
      "120.101.8.112\n",
      "120.101.8.131\n",
      "ARP\n",
      "120.101.8.254\n",
      "120.101.8.131\n",
      "ARP\n",
      "120.101.8.254\n",
      "120.101.8.117\n",
      "ARP\n",
      "120.101.8.254\n",
      "120.101.8.117\n",
      "ARP\n",
      "120.101.8.254\n",
      "120.101.8.117\n",
      "ARP\n",
      "120.101.8.214\n",
      "ARP\n",
      "120.101.8.254\n",
      "ARP\n",
      "120.101.8.254\n",
      "120.101.8.117\n",
      "ARP\n",
      "120.101.8.217\n",
      "ARP\n",
      "120.101.8.217\n",
      "ARP\n",
      "120.101.8.110\n",
      "ARP\n",
      "120.101.8.110\n",
      "ARP\n",
      "120.101.8.217\n",
      "ARP\n",
      "120.101.8.110\n",
      "ARP\n",
      "120.101.8.86\n",
      "192.168.0.254\n",
      "192.168.0.254\n",
      "192.168.0.254\n",
      "192.168.0.254\n",
      "192.168.0.254\n",
      "192.168.0.254\n",
      "192.168.0.254\n",
      "192.168.0.254\n",
      "192.168.0.254\n",
      "192.168.0.254\n",
      "ARP\n",
      "120.101.8.86\n",
      "ARP\n",
      "120.101.8.38\n",
      "ARP\n",
      "120.101.8.63\n",
      "ARP\n",
      "120.101.8.86\n",
      "ARP\n",
      "120.101.8.128\n",
      "120.101.8.110\n",
      "ARP\n",
      "120.101.8.254\n",
      "120.101.8.110\n",
      "ARP\n",
      "120.101.8.254\n",
      "120.101.8.110\n",
      "ARP\n",
      "120.101.8.110\n",
      "ARP\n",
      "120.101.8.110\n",
      "120.101.8.110\n",
      "ARP\n",
      "120.101.8.254\n",
      "ARP\n",
      "120.101.8.110\n"
     ]
    }
   ],
   "source": [
    "lenth=len(catch)\n",
    "for i in range(lenth):\n",
    "        if (int(catch[i][0].type)==2048):\n",
    "            print (catch[i][IP].src)\n",
    "        else:\n",
    "            print (\"ARP\")\n",
    "            print (catch[i][ARP].psrc)"
   ]
  },
  {
   "cell_type": "code",
   "execution_count": 145,
   "metadata": {},
   "outputs": [
    {
     "name": "stdout",
     "output_type": "stream",
     "text": [
      "['120.101.8.86', '120.101.8.112', '120.101.8.217', '192.168.0.254', '120.101.8.254', '192.168.0.254', '192.168.0.254', '192.168.0.254', '192.168.0.254', '192.168.0.254', '192.168.0.254', '192.168.0.254', '192.168.0.254', '192.168.0.254', '120.101.8.254', '120.101.8.123', '120.101.8.134', '120.101.8.254', '120.101.8.123', '120.101.8.123', '120.101.8.123', '120.101.8.112', '120.101.8.123', '120.101.8.123', '120.101.8.134', '120.101.8.254', '120.101.8.112', '120.101.8.143', '120.101.8.74', '120.101.8.134', '120.101.8.143', '120.101.8.114', '120.101.8.114', '120.101.8.254', '120.101.8.254', '120.101.8.143', '120.101.8.116', '120.101.8.254', '120.101.8.254', '120.101.8.116', '120.101.8.116', '120.101.8.217', '120.101.8.122', '120.101.8.116', '120.101.8.217', '120.101.8.110', '120.101.8.254', '120.101.8.110', '120.101.8.78', '120.101.8.217', '120.101.8.254', '120.101.8.254', '120.101.8.233', '120.101.8.110', '120.101.8.112', '120.101.8.131', '120.101.8.112', '120.101.8.131', '120.101.8.112', '120.101.8.131', '120.101.8.254', '120.101.8.131', '120.101.8.254', '120.101.8.117', '120.101.8.254', '120.101.8.117', '120.101.8.254', '120.101.8.117', '120.101.8.214', '120.101.8.254', '120.101.8.254', '120.101.8.117', '120.101.8.217', '120.101.8.217', '120.101.8.110', '120.101.8.110', '120.101.8.217', '120.101.8.110', '120.101.8.86', '192.168.0.254', '192.168.0.254', '192.168.0.254', '192.168.0.254', '192.168.0.254', '192.168.0.254', '192.168.0.254', '192.168.0.254', '192.168.0.254', '192.168.0.254', '120.101.8.86', '120.101.8.38', '120.101.8.63', '120.101.8.86', '120.101.8.128', '120.101.8.110', '120.101.8.254', '120.101.8.110', '120.101.8.254', '120.101.8.110', '120.101.8.110', '120.101.8.110', '120.101.8.110', '120.101.8.254', '120.101.8.110']\n",
      "[2019887190, 2019887216, 2019887321, 3232235774, 2019887358, 3232235774, 3232235774, 3232235774, 3232235774, 3232235774, 3232235774, 3232235774, 3232235774, 3232235774, 2019887358, 2019887227, 2019887238, 2019887358, 2019887227, 2019887227, 2019887227, 2019887216, 2019887227, 2019887227, 2019887238, 2019887358, 2019887216, 2019887247, 2019887178, 2019887238, 2019887247, 2019887218, 2019887218, 2019887358, 2019887358, 2019887247, 2019887220, 2019887358, 2019887358, 2019887220, 2019887220, 2019887321, 2019887226, 2019887220, 2019887321, 2019887214, 2019887358, 2019887214, 2019887182, 2019887321, 2019887358, 2019887358, 2019887337, 2019887214, 2019887216, 2019887235, 2019887216, 2019887235, 2019887216, 2019887235, 2019887358, 2019887235, 2019887358, 2019887221, 2019887358, 2019887221, 2019887358, 2019887221, 2019887318, 2019887358, 2019887358, 2019887221, 2019887321, 2019887321, 2019887214, 2019887214, 2019887321, 2019887214, 2019887190, 3232235774, 3232235774, 3232235774, 3232235774, 3232235774, 3232235774, 3232235774, 3232235774, 3232235774, 3232235774, 2019887190, 2019887142, 2019887167, 2019887190, 2019887232, 2019887214, 2019887358, 2019887214, 2019887358, 2019887214, 2019887214, 2019887214, 2019887214, 2019887358, 2019887214]\n"
     ]
    }
   ],
   "source": [
    "lenth=len(catch)\n",
    "data=[]\n",
    "num=[]\n",
    "for i in range(lenth):\n",
    "    if (int(catch[i][0].type)==2048):\n",
    "        if (catch[i][IP].src!=\"0.0.0.0\"):\n",
    "            tmp=catch[i][IP].src\n",
    "            data.append(tmp)\n",
    "            num.append(int(ipaddress.ip_address(tmp)))\n",
    "    elif (int(catch[i][0].type)==2054):\n",
    "        if (catch[i][ARP].psrc!=\"0.0.0.0\"):\n",
    "            tmp=catch[i][ARP].psrc\n",
    "            data.append(tmp)\n",
    "            num.append(int(ipaddress.ip_address(tmp)))\n",
    "print (data)\n",
    "print (num)"
   ]
  },
  {
   "cell_type": "code",
   "execution_count": 146,
   "metadata": {},
   "outputs": [],
   "source": [
    "import pandas as pd\n",
    "data={'number':num,'ip_address':data}\n",
    "data=pd.DataFrame(data)"
   ]
  },
  {
   "cell_type": "code",
   "execution_count": 147,
   "metadata": {},
   "outputs": [],
   "source": [
    "data3=data.drop_duplicates('ip_address',keep='first',inplace=False)\n",
    "data3=data3.sort_values(by='number')"
   ]
  },
  {
   "cell_type": "code",
   "execution_count": 148,
   "metadata": {},
   "outputs": [
    {
     "data": {
      "text/html": [
       "<div>\n",
       "<style scoped>\n",
       "    .dataframe tbody tr th:only-of-type {\n",
       "        vertical-align: middle;\n",
       "    }\n",
       "\n",
       "    .dataframe tbody tr th {\n",
       "        vertical-align: top;\n",
       "    }\n",
       "\n",
       "    .dataframe thead th {\n",
       "        text-align: right;\n",
       "    }\n",
       "</style>\n",
       "<table border=\"1\" class=\"dataframe\">\n",
       "  <thead>\n",
       "    <tr style=\"text-align: right;\">\n",
       "      <th></th>\n",
       "      <th>number</th>\n",
       "      <th>ip_address</th>\n",
       "    </tr>\n",
       "  </thead>\n",
       "  <tbody>\n",
       "    <tr>\n",
       "      <th>90</th>\n",
       "      <td>2019887142</td>\n",
       "      <td>120.101.8.38</td>\n",
       "    </tr>\n",
       "    <tr>\n",
       "      <th>91</th>\n",
       "      <td>2019887167</td>\n",
       "      <td>120.101.8.63</td>\n",
       "    </tr>\n",
       "    <tr>\n",
       "      <th>28</th>\n",
       "      <td>2019887178</td>\n",
       "      <td>120.101.8.74</td>\n",
       "    </tr>\n",
       "    <tr>\n",
       "      <th>48</th>\n",
       "      <td>2019887182</td>\n",
       "      <td>120.101.8.78</td>\n",
       "    </tr>\n",
       "    <tr>\n",
       "      <th>0</th>\n",
       "      <td>2019887190</td>\n",
       "      <td>120.101.8.86</td>\n",
       "    </tr>\n",
       "    <tr>\n",
       "      <th>45</th>\n",
       "      <td>2019887214</td>\n",
       "      <td>120.101.8.110</td>\n",
       "    </tr>\n",
       "    <tr>\n",
       "      <th>1</th>\n",
       "      <td>2019887216</td>\n",
       "      <td>120.101.8.112</td>\n",
       "    </tr>\n",
       "    <tr>\n",
       "      <th>31</th>\n",
       "      <td>2019887218</td>\n",
       "      <td>120.101.8.114</td>\n",
       "    </tr>\n",
       "    <tr>\n",
       "      <th>36</th>\n",
       "      <td>2019887220</td>\n",
       "      <td>120.101.8.116</td>\n",
       "    </tr>\n",
       "    <tr>\n",
       "      <th>63</th>\n",
       "      <td>2019887221</td>\n",
       "      <td>120.101.8.117</td>\n",
       "    </tr>\n",
       "    <tr>\n",
       "      <th>42</th>\n",
       "      <td>2019887226</td>\n",
       "      <td>120.101.8.122</td>\n",
       "    </tr>\n",
       "    <tr>\n",
       "      <th>15</th>\n",
       "      <td>2019887227</td>\n",
       "      <td>120.101.8.123</td>\n",
       "    </tr>\n",
       "    <tr>\n",
       "      <th>93</th>\n",
       "      <td>2019887232</td>\n",
       "      <td>120.101.8.128</td>\n",
       "    </tr>\n",
       "    <tr>\n",
       "      <th>55</th>\n",
       "      <td>2019887235</td>\n",
       "      <td>120.101.8.131</td>\n",
       "    </tr>\n",
       "    <tr>\n",
       "      <th>16</th>\n",
       "      <td>2019887238</td>\n",
       "      <td>120.101.8.134</td>\n",
       "    </tr>\n",
       "    <tr>\n",
       "      <th>27</th>\n",
       "      <td>2019887247</td>\n",
       "      <td>120.101.8.143</td>\n",
       "    </tr>\n",
       "    <tr>\n",
       "      <th>68</th>\n",
       "      <td>2019887318</td>\n",
       "      <td>120.101.8.214</td>\n",
       "    </tr>\n",
       "    <tr>\n",
       "      <th>2</th>\n",
       "      <td>2019887321</td>\n",
       "      <td>120.101.8.217</td>\n",
       "    </tr>\n",
       "    <tr>\n",
       "      <th>52</th>\n",
       "      <td>2019887337</td>\n",
       "      <td>120.101.8.233</td>\n",
       "    </tr>\n",
       "    <tr>\n",
       "      <th>4</th>\n",
       "      <td>2019887358</td>\n",
       "      <td>120.101.8.254</td>\n",
       "    </tr>\n",
       "    <tr>\n",
       "      <th>3</th>\n",
       "      <td>3232235774</td>\n",
       "      <td>192.168.0.254</td>\n",
       "    </tr>\n",
       "  </tbody>\n",
       "</table>\n",
       "</div>"
      ],
      "text/plain": [
       "        number     ip_address\n",
       "90  2019887142   120.101.8.38\n",
       "91  2019887167   120.101.8.63\n",
       "28  2019887178   120.101.8.74\n",
       "48  2019887182   120.101.8.78\n",
       "0   2019887190   120.101.8.86\n",
       "45  2019887214  120.101.8.110\n",
       "1   2019887216  120.101.8.112\n",
       "31  2019887218  120.101.8.114\n",
       "36  2019887220  120.101.8.116\n",
       "63  2019887221  120.101.8.117\n",
       "42  2019887226  120.101.8.122\n",
       "15  2019887227  120.101.8.123\n",
       "93  2019887232  120.101.8.128\n",
       "55  2019887235  120.101.8.131\n",
       "16  2019887238  120.101.8.134\n",
       "27  2019887247  120.101.8.143\n",
       "68  2019887318  120.101.8.214\n",
       "2   2019887321  120.101.8.217\n",
       "52  2019887337  120.101.8.233\n",
       "4   2019887358  120.101.8.254\n",
       "3   3232235774  192.168.0.254"
      ]
     },
     "execution_count": 148,
     "metadata": {},
     "output_type": "execute_result"
    }
   ],
   "source": [
    "data3"
   ]
  },
  {
   "cell_type": "code",
   "execution_count": 149,
   "metadata": {},
   "outputs": [],
   "source": [
    "last=(data3.iloc[-3]).ip_address"
   ]
  },
  {
   "cell_type": "code",
   "execution_count": 150,
   "metadata": {},
   "outputs": [],
   "source": [
    "first=(data3.iloc[0]).ip_address"
   ]
  },
  {
   "cell_type": "code",
   "execution_count": 151,
   "metadata": {},
   "outputs": [
    {
     "name": "stdout",
     "output_type": "stream",
     "text": [
      "-208\n",
      "4294967087\n",
      "255.255.255.47\n"
     ]
    }
   ],
   "source": [
    "lasto=int(ipaddress.IPv4Address(last))\n",
    "firsto=int(ipaddress.IPv4Address(first))\n",
    "mask=((lasto&firsto)|(~(lasto|firsto)))\n",
    "print (mask)\n",
    "tmp=int(ipaddress.IPv4Address(\"255.255.255.255\"))+mask\n",
    "print (tmp)\n",
    "#mask=str(ipaddress.IPv4Address((lasto^firsto)))\n",
    "tmp2=str(ipaddress.IPv4Address(tmp))\n",
    "print (tmp2)"
   ]
  },
  {
   "cell_type": "code",
   "execution_count": 152,
   "metadata": {},
   "outputs": [
    {
     "name": "stdout",
     "output_type": "stream",
     "text": [
      "24\n"
     ]
    }
   ],
   "source": [
    "#print (ipaddress.IPv4Address(tmp2))\n",
    "for i in range(2,31):\n",
    "    temp=i\n",
    "    temp=str(temp)\n",
    "    s1=\"255.255.255.0/\" + temp\n",
    "    z=ipaddress.ip_network(s1,strict=False)\n",
    "    #print (z)\n",
    "    mask=0\n",
    "    if(ipaddress.IPv4Address(tmp2)<z.netmask):\n",
    "        print (i-1)\n",
    "        mask=i-1\n",
    "        break"
   ]
  },
  {
   "cell_type": "code",
   "execution_count": 153,
   "metadata": {},
   "outputs": [
    {
     "name": "stdout",
     "output_type": "stream",
     "text": [
      "['120.101.8.86', '120.101.8.1', '120.101.8.112', '120.101.8.205', '120.101.8.217', '120.101.8.78', '120.101.8.254', '120.101.8.6', '120.101.8.254', '120.101.8.251', '120.101.8.254', '120.101.8.11', '120.101.8.112', '120.101.8.205', '120.101.8.254', '120.101.8.248', '120.101.8.112', '120.101.8.205', '120.101.8.143', '169.254.169.254', '120.101.8.74', '120.101.8.67', '120.101.8.143', '169.254.169.254', '120.101.8.114', '120.101.8.211', '120.101.8.114', '120.101.8.1', '120.101.8.254', '120.101.8.184', '120.101.8.254', '120.101.8.12', '120.101.8.143', '169.254.169.254', '120.101.8.254', '120.101.8.21', '120.101.8.254', '120.101.8.16', '120.101.8.217', '120.101.8.111', '120.101.8.122', '120.101.8.136', '120.101.8.217', '120.101.8.111', '120.101.8.110', '120.101.8.111', '120.101.8.254', '120.101.8.6', '120.101.8.110', '120.101.8.111', '120.101.8.78', '120.101.8.1', '120.101.8.217', '120.101.8.111', '120.101.8.254', '120.101.8.251', '120.101.8.254', '120.101.8.184', '120.101.8.233', '120.101.8.254', '120.101.8.110', '120.101.8.111', '120.101.8.112', '120.101.8.205', '120.101.8.112', '120.101.8.205', '120.101.8.112', '120.101.8.205', '120.101.8.254', '120.101.8.205', '120.101.8.254', '120.101.8.14', '120.101.8.254', '120.101.8.251', '120.101.8.254', '120.101.8.247', '120.101.8.214', '120.101.8.63', '120.101.8.254', '120.101.8.14', '120.101.8.254', '120.101.8.223', '120.101.8.217', '120.101.8.111', '120.101.8.217', '120.101.8.111', '120.101.8.110', '120.101.8.111', '120.101.8.110', '120.101.8.111', '120.101.8.217', '120.101.8.111', '120.101.8.110', '120.101.8.111', '120.101.8.86', '120.101.8.215', '120.101.8.86', '120.101.8.215', '120.101.8.38', '120.101.8.254', '120.101.8.63', '120.101.8.214', '120.101.8.86', '120.101.8.215', '120.101.8.128', '120.101.8.254', '120.101.8.254', '120.101.8.221', '120.101.8.254', '120.101.8.16', '120.101.8.110', '120.101.8.111', '120.101.8.110', '120.101.8.111', '120.101.8.254', '120.101.8.6', '120.101.8.110', '120.101.8.111']\n"
     ]
    }
   ],
   "source": [
    "arp=[]\n",
    "for i in range(lenth):\n",
    "    if (int(catch[i][0].type)==2054):\n",
    "        if (catch[i][ARP].psrc!=\"0.0.0.0\"):\n",
    "            src=catch[i][ARP].psrc\n",
    "            dst=catch[i][ARP].pdst\n",
    "            arp.append(src)\n",
    "            arp.append(dst)\n",
    "print (arp)"
   ]
  },
  {
   "cell_type": "code",
   "execution_count": 154,
   "metadata": {
    "scrolled": true
   },
   "outputs": [
    {
     "name": "stdout",
     "output_type": "stream",
     "text": [
      "{'120.101.8.86': 4, '120.101.8.1': 3, '120.101.8.112': 6, '120.101.8.205': 7, '120.101.8.217': 7, '120.101.8.78': 2, '120.101.8.254': 23, '120.101.8.6': 3, '120.101.8.251': 3, '120.101.8.11': 1, '120.101.8.248': 1, '120.101.8.143': 3, '169.254.169.254': 3, '120.101.8.74': 1, '120.101.8.67': 1, '120.101.8.114': 2, '120.101.8.211': 1, '120.101.8.184': 2, '120.101.8.12': 1, '120.101.8.21': 1, '120.101.8.16': 2, '120.101.8.111': 15, '120.101.8.122': 1, '120.101.8.136': 1, '120.101.8.110': 9, '120.101.8.233': 1, '120.101.8.14': 2, '120.101.8.247': 1, '120.101.8.214': 2, '120.101.8.63': 2, '120.101.8.223': 1, '120.101.8.215': 3, '120.101.8.38': 1, '120.101.8.128': 1, '120.101.8.221': 1}\n"
     ]
    }
   ],
   "source": [
    "dict={}\n",
    "for key in arp:\n",
    "    dict[key]=dict.get(key,0)+1\n",
    "print(dict)"
   ]
  },
  {
   "cell_type": "code",
   "execution_count": 156,
   "metadata": {},
   "outputs": [
    {
     "data": {
      "text/plain": [
       "23"
      ]
     },
     "execution_count": 156,
     "metadata": {},
     "output_type": "execute_result"
    }
   ],
   "source": [
    "dict['120.101.8.254']"
   ]
  },
  {
   "cell_type": "code",
   "execution_count": null,
   "metadata": {},
   "outputs": [],
   "source": []
  }
 ],
 "metadata": {
  "kernelspec": {
   "display_name": "Python 3",
   "language": "python",
   "name": "python3"
  },
  "language_info": {
   "codemirror_mode": {
    "name": "ipython",
    "version": 3
   },
   "file_extension": ".py",
   "mimetype": "text/x-python",
   "name": "python",
   "nbconvert_exporter": "python",
   "pygments_lexer": "ipython3",
   "version": "3.7.3"
  }
 },
 "nbformat": 4,
 "nbformat_minor": 2
}
