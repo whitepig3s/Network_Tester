{
 "cells": [
  {
   "cell_type": "markdown",
   "metadata": {},
   "source": [
    "# 引入Header"
   ]
  },
  {
   "cell_type": "code",
   "execution_count": 1,
   "metadata": {},
   "outputs": [],
   "source": [
    "from  scapy.all import *\n",
    "import netifaces\n",
    "import datetime\n",
    "import ipaddress\n",
    "import pandas as pd\n",
    "from subprocess import run"
   ]
  },
  {
   "cell_type": "markdown",
   "metadata": {},
   "source": [
    "# 擷取封包\n",
    "### 利用 ARP 及SSDP 封包 (需要100個有效的封包，最多蒐集30秒)\n",
    "### 並定義data num arp 分別儲存字串類型的IP 位址、數字類型的IP 位址及從ARP蒐集過來的IP位址"
   ]
  },
  {
   "cell_type": "code",
   "execution_count": null,
   "metadata": {},
   "outputs": [],
   "source": [
    "catch =sniff (iface='eth0',filter =\"ip and udp port 1900 or arp\" ,count=100,timeout=30)\n",
    "lenth=len(catch)\n",
    "data=[]\n",
    "num=[]\n",
    "arp=[]\n",
    "print (catch)"
   ]
  },
  {
   "cell_type": "markdown",
   "metadata": {},
   "source": [
    "# Function 過濾正確的IP位址"
   ]
  },
  {
   "cell_type": "code",
   "execution_count": null,
   "metadata": {},
   "outputs": [],
   "source": [
    "def check_ip (ip_addr):\n",
    "    if (ip_addr!=\"0.0.0.0\" and ip_addr!=\"255.255.255.255\"):\n",
    "        tmp=int(ipaddress.IPv4Address(ip_addr))\n",
    "        if (tmp<=3758096384): #CLASS D,E\n",
    "            if (tmp>2851995648 and tmp<2852061183): #169.254.0.0/16\n",
    "                return False\n",
    "            else:\n",
    "                return True\n",
    "        else:\n",
    "            return False\n",
    "    else:\n",
    "        return False\n"
   ]
  },
  {
   "cell_type": "markdown",
   "metadata": {},
   "source": [
    "# 儲存資料\n",
    "### type 2048 為一般的封包\n",
    "### type 2054 則為ARP"
   ]
  },
  {
   "cell_type": "code",
   "execution_count": null,
   "metadata": {},
   "outputs": [],
   "source": [
    "for i in range(lenth):\n",
    "    if (int(catch[i][0].type)==2048):\n",
    "        if (check_ip(catch[i][IP].src)==True):\n",
    "            tmp=catch[i][IP].src\n",
    "            data.append(tmp)\n",
    "            num.append(int(ipaddress.ip_address(tmp)))\n",
    "    elif (int(catch[i][0].type)==2054):\n",
    "        if (check_ip(catch[i][ARP].psrc)==True):\n",
    "            tmp=catch[i][ARP].psrc\n",
    "            arp.append(tmp)\n",
    "            data.append(tmp)\n",
    "            num.append(int(ipaddress.ip_address(tmp)))\n",
    "        if (check_ip(catch[i][ARP].pdst)==True):\n",
    "            dst=catch[i][ARP].pdst\n",
    "            arp.append(dst)"
   ]
  },
  {
   "cell_type": "markdown",
   "metadata": {},
   "source": [
    "# data 及num 轉為DataFrame"
   ]
  },
  {
   "cell_type": "code",
   "execution_count": null,
   "metadata": {},
   "outputs": [],
   "source": [
    "data={'number':num,'ip_address':data}\n",
    "data=pd.DataFrame(data)\n",
    "data=data.drop_duplicates('ip_address',keep='first',inplace=False)\n",
    "data=data.sort_values(by='number')\n",
    "print (data)"
   ]
  },
  {
   "cell_type": "markdown",
   "metadata": {},
   "source": [
    "# 計算 網路遮罩"
   ]
  },
  {
   "cell_type": "code",
   "execution_count": null,
   "metadata": {},
   "outputs": [],
   "source": [
    "last=(data.iloc[-2]).number\n",
    "print (last)\n",
    "first=(data.iloc[1]).number\n",
    "print (first)\n",
    "mask_fl=((last&first)|(~(last|first)))\n",
    "mask_c=mask_fl+256**4\n",
    "mask_c=str(ipaddress.IPv4Address(int (mask_c)))\n",
    "mask=0\n",
    "for i in range(2,31):\n",
    "    tmp=\"255.255.255.255/\" + str(i)\n",
    "    tmp=ipaddress.ip_network(tmp,strict=False)\n",
    "    if(ipaddress.IPv4Address(mask_c)<tmp.netmask):\n",
    "        print (i)\n",
    "        mask=i-1\n",
    "        break\n",
    "mask_str=ipaddress.ip_network(\"255.255.255.255/\" + str(mask),strict=False)"
   ]
  },
  {
   "cell_type": "markdown",
   "metadata": {},
   "source": [
    "# 計算 Gateway"
   ]
  },
  {
   "cell_type": "code",
   "execution_count": null,
   "metadata": {},
   "outputs": [],
   "source": [
    "dict={}\n",
    "maxaddr=0\n",
    "GW=''\n",
    "for key in arp:\n",
    "    dict[key]=dict.get(key,0)+1\n",
    "    if (maxaddr<dict[key]):\n",
    "        maxaddr=dict[key]\n",
    "        GW=key\n",
    "print(dict)"
   ]
  },
  {
   "cell_type": "markdown",
   "metadata": {},
   "source": [
    "# 尋找可用之IP"
   ]
  },
  {
   "cell_type": "code",
   "execution_count": null,
   "metadata": {},
   "outputs": [],
   "source": [
    "for i in range (0,len(data)-1):\n",
    "    ip=0\n",
    "    if (((data.iloc[i]).number-(data.iloc[i+1]).number)<1):\n",
    "        ip=((data.iloc[i]).number)+1\n",
    "        break\n"
   ]
  },
  {
   "cell_type": "markdown",
   "metadata": {},
   "source": [
    "# 輸出計算結果"
   ]
  },
  {
   "cell_type": "code",
   "execution_count": null,
   "metadata": {},
   "outputs": [],
   "source": [
    "print(\"Result\")\n",
    "print (\"IP address:\",end=\" \")\n",
    "print (ipaddress.ip_address(int (ip)))\n",
    "print (\"Network mask:\",end=\" \")\n",
    "print(mask_str.netmask)\n",
    "print (\"Gateway:\",end=\" \")\n",
    "print (GW)"
   ]
  },
  {
   "cell_type": "markdown",
   "metadata": {},
   "source": [
    "# 直接輸出DHCP結果"
   ]
  },
  {
   "cell_type": "code",
   "execution_count": null,
   "metadata": {},
   "outputs": [],
   "source": [
    "addr=netifaces.ifaddresses('eth0')[2][0]['addr']\n",
    "netmask=netifaces.ifaddresses('eth0')[2][0]['netmask']\n",
    "gateway=netifaces.gateways()[2][0][0]\n",
    "network_inf = \"Address: %s\\nNetmask: %s\\nGateway: %s\\n\"%(addr,netmask,gateway)\n",
    "print (network_inf)"
   ]
  }
 ],
 "metadata": {
  "kernelspec": {
   "display_name": "Python 3",
   "language": "python",
   "name": "python3"
  },
  "language_info": {
   "codemirror_mode": {
    "name": "ipython",
    "version": 3
   },
   "file_extension": ".py",
   "mimetype": "text/x-python",
   "name": "python",
   "nbconvert_exporter": "python",
   "pygments_lexer": "ipython3",
   "version": "3.7.3"
  }
 },
 "nbformat": 4,
 "nbformat_minor": 2
}
