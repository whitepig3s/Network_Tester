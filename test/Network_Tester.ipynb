{
 "cells": [
  {
   "cell_type": "code",
   "execution_count": 40,
   "metadata": {},
   "outputs": [],
   "source": [
    "from  scapy.all import *\n",
    "import netifaces\n",
    "from subprocess import run"
   ]
  },
  {
   "cell_type": "code",
   "execution_count": 30,
   "metadata": {},
   "outputs": [],
   "source": [
    "a=subprocess.getoutput('ping 8.8.8.8 -c 10')"
   ]
  },
  {
   "cell_type": "code",
   "execution_count": 31,
   "metadata": {},
   "outputs": [
    {
     "data": {
      "text/plain": [
       "'PING 8.8.8.8 (8.8.8.8) 56(84) bytes of data.\\n64 bytes from 8.8.8.8: icmp_seq=1 ttl=50 time=6.81 ms\\n64 bytes from 8.8.8.8: icmp_seq=2 ttl=50 time=5.32 ms\\n64 bytes from 8.8.8.8: icmp_seq=3 ttl=50 time=9.01 ms\\n64 bytes from 8.8.8.8: icmp_seq=4 ttl=50 time=5.01 ms\\n64 bytes from 8.8.8.8: icmp_seq=5 ttl=50 time=9.07 ms\\n64 bytes from 8.8.8.8: icmp_seq=6 ttl=50 time=4.99 ms\\n64 bytes from 8.8.8.8: icmp_seq=7 ttl=50 time=5.24 ms\\n64 bytes from 8.8.8.8: icmp_seq=8 ttl=50 time=4.91 ms\\n64 bytes from 8.8.8.8: icmp_seq=9 ttl=50 time=13.8 ms\\n64 bytes from 8.8.8.8: icmp_seq=10 ttl=50 time=5.06 ms\\n\\n--- 8.8.8.8 ping statistics ---\\n10 packets transmitted, 10 received, 0% packet loss, time 22ms\\nrtt min/avg/max/mdev = 4.914/6.919/13.768/2.760 ms'"
      ]
     },
     "execution_count": 31,
     "metadata": {},
     "output_type": "execute_result"
    }
   ],
   "source": [
    "a"
   ]
  },
  {
   "cell_type": "code",
   "execution_count": 32,
   "metadata": {},
   "outputs": [],
   "source": [
    "a=a.split(',')"
   ]
  },
  {
   "cell_type": "code",
   "execution_count": 33,
   "metadata": {},
   "outputs": [],
   "source": [
    "b=a[1].split(' ')"
   ]
  },
  {
   "cell_type": "code",
   "execution_count": 34,
   "metadata": {},
   "outputs": [
    {
     "data": {
      "text/plain": [
       "['', '10', 'received']"
      ]
     },
     "execution_count": 34,
     "metadata": {},
     "output_type": "execute_result"
    }
   ],
   "source": [
    "b"
   ]
  },
  {
   "cell_type": "code",
   "execution_count": 35,
   "metadata": {},
   "outputs": [],
   "source": [
    "received=int (b[1])"
   ]
  },
  {
   "cell_type": "code",
   "execution_count": 36,
   "metadata": {},
   "outputs": [
    {
     "data": {
      "text/plain": [
       "10"
      ]
     },
     "execution_count": 36,
     "metadata": {},
     "output_type": "execute_result"
    }
   ],
   "source": [
    "received"
   ]
  },
  {
   "cell_type": "code",
   "execution_count": 38,
   "metadata": {},
   "outputs": [
    {
     "name": "stdout",
     "output_type": "stream",
     "text": [
      "Sucess\n"
     ]
    }
   ],
   "source": [
    "if (received==10):\n",
    "    print (\"Sucess\")\n",
    "else:\n",
    "    print (\"Somethng wrong in the network.\")"
   ]
  },
  {
   "cell_type": "code",
   "execution_count": 53,
   "metadata": {},
   "outputs": [
    {
     "data": {
      "text/plain": [
       "[{'addr': '192.168.2.101',\n",
       "  'netmask': '255.255.255.0',\n",
       "  'broadcast': '192.168.2.255'}]"
      ]
     },
     "execution_count": 53,
     "metadata": {},
     "output_type": "execute_result"
    }
   ],
   "source": [
    "netifaces.interfaces()\n",
    "netifaces.ifaddresses('eth0')[2]\n"
   ]
  },
  {
   "cell_type": "code",
   "execution_count": 55,
   "metadata": {},
   "outputs": [],
   "source": [
    "addr=netifaces.ifaddresses('eth0')[2][0]['addr']\n",
    "netmask=netifaces.ifaddresses('eth0')[2][0]['netmask']"
   ]
  },
  {
   "cell_type": "code",
   "execution_count": 56,
   "metadata": {},
   "outputs": [
    {
     "data": {
      "text/plain": [
       "{'default': {2: ('192.168.2.1', 'eth0')}, 2: [('192.168.2.1', 'eth0', True)]}"
      ]
     },
     "execution_count": 56,
     "metadata": {},
     "output_type": "execute_result"
    }
   ],
   "source": [
    "netifaces.gateways()"
   ]
  },
  {
   "cell_type": "code",
   "execution_count": 57,
   "metadata": {},
   "outputs": [],
   "source": [
    "gateway=netifaces.gateways()[2][0][0]"
   ]
  },
  {
   "cell_type": "code",
   "execution_count": 58,
   "metadata": {},
   "outputs": [
    {
     "data": {
      "text/plain": [
       "'192.168.2.1'"
      ]
     },
     "execution_count": 58,
     "metadata": {},
     "output_type": "execute_result"
    }
   ],
   "source": [
    "gateway"
   ]
  },
  {
   "cell_type": "code",
   "execution_count": 60,
   "metadata": {},
   "outputs": [],
   "source": [
    "f=open('/etc/network/interfaces','r')"
   ]
  },
  {
   "cell_type": "code",
   "execution_count": 62,
   "metadata": {},
   "outputs": [
    {
     "data": {
      "text/plain": [
       "['# and how to activate them. For more information, see interfaces(5).\\n',\n",
       " '\\n',\n",
       " 'source /etc/network/interfaces.d/*\\n',\n",
       " '\\n',\n",
       " '# The loopback network interface\\n',\n",
       " 'auto lo\\n',\n",
       " 'iface lo inet loopback\\n']"
      ]
     },
     "execution_count": 62,
     "metadata": {},
     "output_type": "execute_result"
    }
   ],
   "source": [
    "\n",
    "f.readlines()"
   ]
  },
  {
   "cell_type": "code",
   "execution_count": 74,
   "metadata": {},
   "outputs": [],
   "source": [
    "f=open('/sys/class/net/eth0/carrier','r')"
   ]
  },
  {
   "cell_type": "code",
   "execution_count": 75,
   "metadata": {},
   "outputs": [],
   "source": [
    "status=f.readline()"
   ]
  },
  {
   "cell_type": "code",
   "execution_count": 76,
   "metadata": {},
   "outputs": [
    {
     "data": {
      "text/plain": [
       "'1\\n'"
      ]
     },
     "execution_count": 76,
     "metadata": {},
     "output_type": "execute_result"
    }
   ],
   "source": [
    "status"
   ]
  },
  {
   "cell_type": "code",
   "execution_count": 79,
   "metadata": {},
   "outputs": [
    {
     "name": "stdout",
     "output_type": "stream",
     "text": [
      "plug in\n"
     ]
    }
   ],
   "source": [
    "if (status=='1\\n'):\n",
    "    print (\"plug in\")\n",
    "else:\n",
    "    print (\"no connection\")"
   ]
  },
  {
   "cell_type": "code",
   "execution_count": 99,
   "metadata": {},
   "outputs": [],
   "source": [
    "gw='ping '+gateway+\" -c 10\"\n",
    "gwtest=subprocess.getoutput(gw)"
   ]
  },
  {
   "cell_type": "code",
   "execution_count": 100,
   "metadata": {},
   "outputs": [],
   "source": [
    "gwresult=(gwtest.split(','))[1]"
   ]
  },
  {
   "cell_type": "code",
   "execution_count": 101,
   "metadata": {},
   "outputs": [],
   "source": [
    "re=gwresult.split(' ')[1]"
   ]
  },
  {
   "cell_type": "code",
   "execution_count": 105,
   "metadata": {},
   "outputs": [
    {
     "name": "stdout",
     "output_type": "stream",
     "text": [
      "ping GW sucess\n"
     ]
    }
   ],
   "source": [
    "re=int (re)\n",
    "if (re==10):\n",
    "    print (\"ping GW sucess\")\n",
    "else:\n",
    "    print (\"error\")"
   ]
  },
  {
   "cell_type": "code",
   "execution_count": 106,
   "metadata": {},
   "outputs": [
    {
     "data": {
      "text/plain": [
       "10"
      ]
     },
     "execution_count": 106,
     "metadata": {},
     "output_type": "execute_result"
    }
   ],
   "source": [
    "re"
   ]
  },
  {
   "cell_type": "code",
   "execution_count": null,
   "metadata": {},
   "outputs": [],
   "source": []
  }
 ],
 "metadata": {
  "kernelspec": {
   "display_name": "Python 3",
   "language": "python",
   "name": "python3"
  },
  "language_info": {
   "codemirror_mode": {
    "name": "ipython",
    "version": 3
   },
   "file_extension": ".py",
   "mimetype": "text/x-python",
   "name": "python",
   "nbconvert_exporter": "python",
   "pygments_lexer": "ipython3",
   "version": "3.7.3"
  }
 },
 "nbformat": 4,
 "nbformat_minor": 2
}
