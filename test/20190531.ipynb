{
 "cells": [
  {
   "cell_type": "code",
   "execution_count": 77,
   "metadata": {},
   "outputs": [
    {
     "name": "stdout",
     "output_type": "stream",
     "text": [
      "Testing...\n",
      "operstate: down\n",
      "\n",
      "Finished Test.\n"
     ]
    }
   ],
   "source": [
    "from  scapy.all import *\n",
    "import netifaces\n",
    "from subprocess import run\n",
    "\n",
    "print (\"Testing...\") \n",
    "\n",
    "'''LINK STATUS'''\n",
    "carrier=open('/sys/class/net/eth0/carrier','r') \n",
    "connect=carrier.readline()\n",
    "if (connect=='0\\n'):\n",
    "    print (\"operstate: down\\n\")\n",
    "else:\n",
    "    print (\"operstate: up\\n\")\n",
    "        \n",
    "    '''IP state'''\n",
    "    interface=open('/etc/network/interfaces','r')\n",
    "    state=interface.readlines()\n",
    "    static=False\n",
    "    for i in state:\n",
    "        if (0<i.find(\"static\")):\n",
    "            static=True\n",
    "    if (static==True):        \n",
    "        print(\"IP state: Static\")\n",
    "    else:\n",
    "        print(\"IP state: DHCP\")\n",
    "            \n",
    "    '''print network_inf'''\n",
    "    try:\n",
    "        addr=netifaces.ifaddresses('eth0')[2][0]['addr']\n",
    "        netmask=netifaces.ifaddresses('eth0')[2][0]['netmask']\n",
    "        gateway=netifaces.gateways()[2][0][0]\n",
    "        network_inf = \"Address: %s\\nNetmask: %s\\nGateway: %s\\n\"%(addr,netmask,gateway)\n",
    "        print (network_inf)\n",
    "    except:\n",
    "        print ('no information about network\\n')\n",
    "        \n",
    "    print (\"Ping Gateway...\")\n",
    "    try:\n",
    "        ping_gw='ping '+gateway+\" -c 10\"\n",
    "        gw_test=subprocess.getoutput(ping_gw)\n",
    "        ping_gw_result=(gw_test.split(','))[1]\n",
    "        ping_gw_result=int(ping_gw_result.split(' ')[1])\n",
    "    except:\n",
    "        pass\n",
    "    \n",
    "    if (ping_gw_result>=9):\n",
    "        print (\"Sucess\")\n",
    "    else:\n",
    "        print (\"Failed\")\n",
    "print(\"Finished Test.\")"
   ]
  },
  {
   "cell_type": "code",
   "execution_count": 2,
   "metadata": {},
   "outputs": [
    {
     "data": {
      "text/plain": [
       "<Sniffed: TCP:0 UDP:36 ICMP:0 Other:64>"
      ]
     },
     "execution_count": 2,
     "metadata": {},
     "output_type": "execute_result"
    }
   ],
   "source": [
    "from  scapy.all import *\n",
    "catch =sniff (iface='eth0',filter =\"udp port 1900 or arp\" ,count=100)\n",
    "catch"
   ]
  },
  {
   "cell_type": "code",
   "execution_count": 3,
   "metadata": {
    "scrolled": true
   },
   "outputs": [],
   "source": [
    "import ipaddress\n",
    "lenth=len(catch)\n",
    "data=[]\n",
    "num=[]\n",
    "for i in range(lenth):\n",
    "    if (int(catch[i][0].type)==2048):\n",
    "        if (catch[i][IP].src!=\"0.0.0.0\"):\n",
    "            tmp=catch[i][IP].src\n",
    "            data.append(tmp)\n",
    "            num.append(int(ipaddress.ip_address(tmp)))\n",
    "    elif (int(catch[i][0].type)==2054):\n",
    "        if (catch[i][ARP].psrc!=\"0.0.0.0\"):\n",
    "            tmp=catch[i][ARP].psrc\n",
    "            data.append(tmp)\n",
    "            num.append(int(ipaddress.ip_address(tmp)))"
   ]
  },
  {
   "cell_type": "code",
   "execution_count": 4,
   "metadata": {},
   "outputs": [],
   "source": [
    "import pandas as pd\n",
    "data={'number':num,'ip_address':data}\n",
    "data=pd.DataFrame(data)"
   ]
  },
  {
   "cell_type": "code",
   "execution_count": 5,
   "metadata": {},
   "outputs": [],
   "source": [
    "data3=data.drop_duplicates('ip_address',keep='first',inplace=False)\n",
    "data3=data3.sort_values(by='number')"
   ]
  },
  {
   "cell_type": "code",
   "execution_count": 15,
   "metadata": {},
   "outputs": [],
   "source": [
    "last=(data3.iloc[-1]).ip_address"
   ]
  },
  {
   "cell_type": "code",
   "execution_count": 16,
   "metadata": {},
   "outputs": [],
   "source": [
    "first=(data3.iloc[0]).ip_address"
   ]
  },
  {
   "cell_type": "code",
   "execution_count": 17,
   "metadata": {},
   "outputs": [
    {
     "name": "stdout",
     "output_type": "stream",
     "text": [
      "255.255.255.171\n"
     ]
    }
   ],
   "source": [
    "lasto=int(ipaddress.IPv4Address(last))\n",
    "firsto=int(ipaddress.IPv4Address(first))\n",
    "mask=((lasto&firsto)|(~(lasto|firsto)))\n",
    "tmp=int(ipaddress.IPv4Address(\"255.255.255.255\"))+mask\n",
    "tmp2=str(ipaddress.IPv4Address(tmp))\n",
    "print (tmp2)"
   ]
  },
  {
   "cell_type": "code",
   "execution_count": 26,
   "metadata": {},
   "outputs": [
    {
     "name": "stdout",
     "output_type": "stream",
     "text": [
      "192.0.0.0/2\n",
      "224.0.0.0/3\n",
      "240.0.0.0/4\n",
      "248.0.0.0/5\n",
      "252.0.0.0/6\n",
      "254.0.0.0/7\n",
      "255.0.0.0/8\n",
      "255.128.0.0/9\n",
      "255.192.0.0/10\n",
      "255.224.0.0/11\n",
      "255.240.0.0/12\n",
      "255.248.0.0/13\n",
      "255.252.0.0/14\n",
      "255.254.0.0/15\n",
      "255.255.0.0/16\n",
      "255.255.128.0/17\n",
      "255.255.192.0/18\n",
      "255.255.224.0/19\n",
      "255.255.240.0/20\n",
      "255.255.248.0/21\n",
      "255.255.252.0/22\n",
      "255.255.254.0/23\n",
      "255.255.255.0/24\n",
      "255.255.255.0/25\n",
      "255.255.255.0/26\n",
      "25\n"
     ]
    }
   ],
   "source": [
    "for i in range(2,31):\n",
    "    temp=i\n",
    "    temp=str(temp)\n",
    "    s1=\"255.255.255.0/\" + temp\n",
    "    z=ipaddress.ip_network(s1,strict=False)\n",
    "    print (z)\n",
    "    mask=0\n",
    "    if(ipaddress.IPv4Address(tmp2)<z.netmask):\n",
    "        print (i-1)\n",
    "        mask=i-1\n",
    "        break"
   ]
  },
  {
   "cell_type": "code",
   "execution_count": 19,
   "metadata": {},
   "outputs": [
    {
     "name": "stdout",
     "output_type": "stream",
     "text": [
      "['192.168.1.51', '192.168.1.47', '192.168.1.51', '192.168.1.47', '192.168.1.51', '192.168.1.47', '192.168.1.1', '192.168.1.10', '192.168.1.1', '192.168.1.33', '192.168.1.1', '192.168.1.34', '192.168.1.42', '192.168.1.68', '192.168.1.42', '192.168.1.68', '192.168.1.42', '192.168.1.68', '192.168.1.1', '192.168.1.40', '192.168.1.1', '192.168.1.50', '192.168.1.1', '192.168.1.66', '192.168.1.1', '192.168.1.82', '192.168.1.42', '192.168.1.68', '192.168.1.42', '192.168.1.68', '192.168.1.42', '192.168.1.68', '192.168.1.42', '192.168.1.68', '192.168.1.1', '192.168.1.16', '192.168.1.1', '192.168.1.22', '192.168.1.1', '192.168.1.26', '192.168.1.1', '192.168.1.45', '192.168.1.1', '192.168.1.49', '192.168.1.1', '192.168.1.53', '192.168.1.1', '192.168.1.58', '192.168.1.1', '192.168.1.59', '192.168.1.15', '192.168.1.21', '192.168.1.15', '192.168.1.21', '192.168.1.15', '192.168.1.21', '192.168.1.15', '192.168.1.21', '192.168.1.51', '192.168.1.127', '192.168.1.51', '192.168.1.99', '192.168.1.23', '192.168.1.1', '192.168.1.1', '192.168.1.23', '192.168.1.51', '192.168.1.127', '192.168.1.51', '192.168.1.99', '192.168.1.1', '192.168.1.14', '192.168.1.1', '192.168.1.54', '192.168.1.51', '192.168.1.127', '192.168.1.51', '192.168.1.99', '192.168.1.15', '192.168.1.21', '192.168.1.15', '192.168.1.21', '192.168.1.51', '192.168.1.127', '192.168.1.51', '192.168.1.99', '192.168.1.15', '192.168.1.21', '192.168.1.51', '192.168.1.127', '192.168.1.51', '192.168.1.99', '192.168.1.51', '192.168.1.127', '192.168.1.51', '192.168.1.99', '192.168.1.51', '192.168.1.127', '192.168.1.51', '192.168.1.99', '192.168.1.1', '192.168.1.30', '192.168.1.1', '192.168.1.32', '192.168.1.1', '192.168.1.57', '192.168.1.1', '192.168.1.122', '192.168.1.1', '192.168.1.18', '192.168.1.1', '192.168.1.31', '192.168.1.1', '192.168.1.35', '192.168.1.1', '192.168.1.63', '192.168.1.1', '192.168.1.64', '192.168.1.1', '192.168.1.10', '192.168.1.1', '192.168.1.24', '192.168.1.1', '192.168.1.33', '192.168.1.1', '192.168.1.34', '192.168.1.1', '192.168.1.52']\n"
     ]
    }
   ],
   "source": [
    "arp=[]\n",
    "for i in range(lenth):\n",
    "    if (int(catch[i][0].type)==2054):\n",
    "        if (catch[i][ARP].psrc!=\"0.0.0.0\"):\n",
    "            src=catch[i][ARP].psrc\n",
    "            dst=catch[i][ARP].pdst\n",
    "            arp.append(src)\n",
    "            arp.append(dst)\n",
    "print (arp)"
   ]
  },
  {
   "cell_type": "code",
   "execution_count": 20,
   "metadata": {
    "scrolled": true
   },
   "outputs": [
    {
     "name": "stdout",
     "output_type": "stream",
     "text": [
      "{'192.168.1.51': 17, '192.168.1.47': 3, '192.168.1.1': 33, '192.168.1.10': 2, '192.168.1.33': 2, '192.168.1.34': 2, '192.168.1.42': 7, '192.168.1.68': 7, '192.168.1.40': 1, '192.168.1.50': 1, '192.168.1.66': 1, '192.168.1.82': 1, '192.168.1.16': 1, '192.168.1.22': 1, '192.168.1.26': 1, '192.168.1.45': 1, '192.168.1.49': 1, '192.168.1.53': 1, '192.168.1.58': 1, '192.168.1.59': 1, '192.168.1.15': 7, '192.168.1.21': 7, '192.168.1.127': 7, '192.168.1.99': 7, '192.168.1.23': 2, '192.168.1.14': 1, '192.168.1.54': 1, '192.168.1.30': 1, '192.168.1.32': 1, '192.168.1.57': 1, '192.168.1.122': 1, '192.168.1.18': 1, '192.168.1.31': 1, '192.168.1.35': 1, '192.168.1.63': 1, '192.168.1.64': 1, '192.168.1.24': 1, '192.168.1.52': 1}\n"
     ]
    }
   ],
   "source": [
    "dict={}\n",
    "maxaddr=0\n",
    "GW=''\n",
    "for key in arp:\n",
    "    dict[key]=dict.get(key,0)+1\n",
    "    if (maxaddr<dict[key]):\n",
    "        maxaddr=dict[key]\n",
    "        GW=key\n",
    "print(dict)"
   ]
  },
  {
   "cell_type": "code",
   "execution_count": 39,
   "metadata": {},
   "outputs": [
    {
     "data": {
      "text/plain": [
       "IPv4Address('255.255.255.128')"
      ]
     },
     "execution_count": 39,
     "metadata": {},
     "output_type": "execute_result"
    }
   ],
   "source": [
    "mask_tmp=ipaddress.ip_network(\"255.255.255.255/\" + str(mask),strict=False)\n",
    "mask_tmp.netmask"
   ]
  },
  {
   "cell_type": "code",
   "execution_count": 71,
   "metadata": {},
   "outputs": [
    {
     "data": {
      "text/plain": [
       "IPv4Address('192.168.1.2')"
      ]
     },
     "execution_count": 71,
     "metadata": {},
     "output_type": "execute_result"
    }
   ],
   "source": [
    "for i in range (0,len(data3)-1):\n",
    "    ip=0\n",
    "    #print ((data3.iloc[i]).number)\n",
    "    if (((data3.iloc[i]).number-(data3.iloc[i+1]).number)<1):\n",
    "        #print (i)\n",
    "        ip=((data3.iloc[i]).number)+1\n",
    "        #print(ip)\n",
    "        break\n",
    "ipaddress.ip_address(int (ip))"
   ]
  },
  {
   "cell_type": "code",
   "execution_count": 73,
   "metadata": {},
   "outputs": [
    {
     "name": "stdout",
     "output_type": "stream",
     "text": [
      "Result\n",
      "192.168.1.2\n",
      "255.255.255.128\n",
      "192.168.1.1\n"
     ]
    }
   ],
   "source": [
    "print (\"Result\")\n",
    "print (ipaddress.ip_address(int (ip)))\n",
    "print(mask_tmp.netmask)\n",
    "print (GW)"
   ]
  },
  {
   "cell_type": "code",
   "execution_count": 78,
   "metadata": {},
   "outputs": [
    {
     "data": {
      "text/plain": [
       "(0, '')"
      ]
     },
     "execution_count": 78,
     "metadata": {},
     "output_type": "execute_result"
    }
   ],
   "source": [
    "subprocess.getstatusoutput(\"ifconfig eth0 192.168.0.2 netmask 255.255.255.0\")"
   ]
  },
  {
   "cell_type": "code",
   "execution_count": 79,
   "metadata": {},
   "outputs": [
    {
     "name": "stdout",
     "output_type": "stream",
     "text": [
      "IP state: DHCP\n"
     ]
    }
   ],
   "source": [
    "    interface=open('/etc/network/interfaces','r')\n",
    "    state=interface.readlines()\n",
    "    static=False\n",
    "    for i in state:\n",
    "        if (0<i.find(\"static\")):\n",
    "            static=True\n",
    "    if (static==True):        \n",
    "        print(\"IP state: Static\")\n",
    "    else:\n",
    "        print(\"IP state: DHCP\")"
   ]
  },
  {
   "cell_type": "code",
   "execution_count": null,
   "metadata": {},
   "outputs": [],
   "source": []
  }
 ],
 "metadata": {
  "kernelspec": {
   "display_name": "Python 3",
   "language": "python",
   "name": "python3"
  },
  "language_info": {
   "codemirror_mode": {
    "name": "ipython",
    "version": 3
   },
   "file_extension": ".py",
   "mimetype": "text/x-python",
   "name": "python",
   "nbconvert_exporter": "python",
   "pygments_lexer": "ipython3",
   "version": "3.7.3"
  }
 },
 "nbformat": 4,
 "nbformat_minor": 2
}
