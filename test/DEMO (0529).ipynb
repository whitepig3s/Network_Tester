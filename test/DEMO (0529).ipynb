{
 "cells": [
  {
   "cell_type": "markdown",
   "metadata": {},
   "source": [
    "# Fluke tseting flow"
   ]
  },
  {
   "cell_type": "code",
   "execution_count": 29,
   "metadata": {},
   "outputs": [
    {
     "name": "stdout",
     "output_type": "stream",
     "text": [
      "Testing...\n",
      "operstate: up\n",
      "IP state: DHCP\n",
      "no information about network\n",
      "Ping Gateway...\n",
      "Sucess\n",
      "Finished Test.\n"
     ]
    }
   ],
   "source": [
    "from  scapy.all import *\n",
    "import netifaces\n",
    "from subprocess import run\n",
    "\n",
    "print (\"Testing...\") \n",
    "\n",
    "'''LINK STATUS'''\n",
    "carrier=open('/sys/class/net/eth0/carrier','r') \n",
    "connect=carrier.readline()\n",
    "if (connect=='0\\n'):\n",
    "    print (\"operstate: down\")\n",
    "else:\n",
    "    print (\"operstate: up\")\n",
    "        \n",
    "    '''IP state'''\n",
    "    interface=open('/etc/network/interfaces','r')\n",
    "    state=interface.readlines()\n",
    "    static=False\n",
    "    for i in state:\n",
    "        if (0<i.find(\"static\")):\n",
    "            static=True\n",
    "    if (static==True):        \n",
    "        print(\"IP state: Static\")\n",
    "    else:\n",
    "        print(\"IP state: DHCP\")\n",
    "            \n",
    "    '''print network_inf'''\n",
    "    try:\n",
    "        addr=netifaces.ifaddresses('eth0')[2][0]['addr']\n",
    "        netmask=netifaces.ifaddresses('eth0')[2][0]['netmask']\n",
    "        gateway=netifaces.gateways()[2][0][0]\n",
    "        network_inf = \"Address: %s\\nNetmask: %s\\nGateway: %s\"%(addr,netmask,gateway)\n",
    "        print (network_inf)\n",
    "    except:\n",
    "        print ('no information about network')\n",
    "        \n",
    "    print (\"Ping Gateway...\")\n",
    "    try:\n",
    "        ping_gw='ping '+gateway+\" -c 10\"\n",
    "        gw_test=subprocess.getoutput(ping_gw)\n",
    "        ping_gw_result=(gw_test.split(','))[1]\n",
    "        ping_gw_result=int(ping_gw_result.split(' ')[1])\n",
    "    except:\n",
    "        pass\n",
    "    \n",
    "    if (ping_gw_result>=9):\n",
    "        print (\"Sucess\")\n",
    "    else:\n",
    "        print (\"Failed\")\n",
    "print(\"Finished Test.\")"
   ]
  },
  {
   "cell_type": "markdown",
   "metadata": {},
   "source": [
    "# Catch DATA"
   ]
  },
  {
   "cell_type": "code",
   "execution_count": null,
   "metadata": {},
   "outputs": [],
   "source": [
    "from  scapy.all import *\n",
    "catch =sniff (iface='eth0',filter =\"ip and udp port 1900 or arp\" ,count=2)\n",
    "print (catch)\n",
    "catch.show()"
   ]
  },
  {
   "cell_type": "code",
   "execution_count": 7,
   "metadata": {},
   "outputs": [
    {
     "name": "stdout",
     "output_type": "stream",
     "text": [
      "ARP\n",
      "120.101.8.229\n",
      "ARP\n",
      "120.101.8.86\n",
      "120.101.8.116\n",
      "120.101.8.149\n",
      "120.101.8.229\n",
      "120.101.8.229\n",
      "ARP\n",
      "120.101.8.86\n",
      "120.101.8.229\n",
      "120.101.8.149\n",
      "120.101.8.199\n",
      "ARP\n",
      "120.101.8.52\n",
      "120.101.8.199\n",
      "ARP\n",
      "120.101.8.74\n",
      "120.101.8.229\n",
      "120.101.8.229\n",
      "ARP\n",
      "120.101.8.254\n",
      "120.101.8.199\n",
      "120.101.8.229\n",
      "ARP\n",
      "120.101.8.38\n",
      "120.101.8.189\n",
      "120.101.8.199\n",
      "120.101.8.189\n",
      "120.101.8.189\n",
      "120.101.8.189\n",
      "ARP\n",
      "120.101.8.122\n",
      "ARP\n",
      "120.101.8.254\n",
      "ARP\n",
      "120.101.8.254\n",
      "ARP\n",
      "120.101.8.107\n",
      "ARP\n",
      "120.101.8.254\n",
      "ARP\n",
      "120.101.8.88\n",
      "192.168.0.254\n",
      "192.168.0.254\n",
      "192.168.0.254\n",
      "192.168.0.254\n",
      "192.168.0.254\n",
      "192.168.0.254\n",
      "192.168.0.254\n",
      "192.168.0.254\n",
      "192.168.0.254\n",
      "192.168.0.254\n",
      "ARP\n",
      "120.101.8.254\n",
      "ARP\n",
      "120.101.8.95\n",
      "ARP\n",
      "120.101.8.254\n",
      "120.101.8.150\n",
      "ARP\n",
      "120.101.8.107\n",
      "120.101.8.150\n",
      "120.101.8.150\n",
      "ARP\n",
      "120.101.8.254\n",
      "120.101.8.150\n",
      "120.101.8.106\n",
      "120.101.8.123\n",
      "120.101.8.123\n",
      "120.101.8.123\n",
      "120.101.8.123\n",
      "120.101.8.123\n",
      "120.101.8.123\n",
      "ARP\n",
      "120.101.8.254\n",
      "120.101.8.106\n",
      "120.101.8.231\n",
      "120.101.8.106\n",
      "120.101.8.231\n",
      "120.101.8.106\n",
      "120.101.8.231\n",
      "120.101.8.96\n",
      "120.101.8.231\n",
      "120.101.8.96\n",
      "ARP\n",
      "120.101.8.254\n",
      "120.101.8.96\n",
      "120.101.8.96\n",
      "120.101.8.136\n",
      "ARP\n",
      "120.101.8.254\n",
      "120.101.8.136\n",
      "120.101.8.136\n",
      "120.101.8.137\n",
      "120.101.8.136\n",
      "120.101.8.137\n",
      "ARP\n",
      "120.101.8.254\n",
      "120.101.8.137\n"
     ]
    }
   ],
   "source": [
    "lenth=len(catch)\n",
    "for i in range(lenth):\n",
    "        if (int(catch[i][0].type)==2048):\n",
    "            print (catch[i][IP].src)\n",
    "        else:\n",
    "            print (\"ARP\")\n",
    "            print (catch[i][ARP].psrc)"
   ]
  },
  {
   "cell_type": "code",
   "execution_count": 9,
   "metadata": {},
   "outputs": [
    {
     "name": "stdout",
     "output_type": "stream",
     "text": [
      "['120.101.8.229', '120.101.8.86', '120.101.8.116', '120.101.8.149', '120.101.8.229', '120.101.8.229', '120.101.8.86', '120.101.8.229', '120.101.8.149', '120.101.8.199', '120.101.8.52', '120.101.8.199', '120.101.8.74', '120.101.8.229', '120.101.8.229', '120.101.8.254', '120.101.8.199', '120.101.8.229', '120.101.8.38', '120.101.8.189', '120.101.8.199', '120.101.8.189', '120.101.8.189', '120.101.8.189', '120.101.8.122', '120.101.8.254', '120.101.8.254', '120.101.8.107', '120.101.8.254', '120.101.8.88', '192.168.0.254', '192.168.0.254', '192.168.0.254', '192.168.0.254', '192.168.0.254', '192.168.0.254', '192.168.0.254', '192.168.0.254', '192.168.0.254', '192.168.0.254', '120.101.8.254', '120.101.8.95', '120.101.8.254', '120.101.8.150', '120.101.8.107', '120.101.8.150', '120.101.8.150', '120.101.8.254', '120.101.8.150', '120.101.8.106', '120.101.8.123', '120.101.8.123', '120.101.8.123', '120.101.8.123', '120.101.8.123', '120.101.8.123', '120.101.8.254', '120.101.8.106', '120.101.8.231', '120.101.8.106', '120.101.8.231', '120.101.8.106', '120.101.8.231', '120.101.8.96', '120.101.8.231', '120.101.8.96', '120.101.8.254', '120.101.8.96', '120.101.8.96', '120.101.8.136', '120.101.8.254', '120.101.8.136', '120.101.8.136', '120.101.8.137', '120.101.8.136', '120.101.8.137', '120.101.8.254', '120.101.8.137']\n",
      "[2019887333, 2019887190, 2019887220, 2019887253, 2019887333, 2019887333, 2019887190, 2019887333, 2019887253, 2019887303, 2019887156, 2019887303, 2019887178, 2019887333, 2019887333, 2019887358, 2019887303, 2019887333, 2019887142, 2019887293, 2019887303, 2019887293, 2019887293, 2019887293, 2019887226, 2019887358, 2019887358, 2019887211, 2019887358, 2019887192, 3232235774, 3232235774, 3232235774, 3232235774, 3232235774, 3232235774, 3232235774, 3232235774, 3232235774, 3232235774, 2019887358, 2019887199, 2019887358, 2019887254, 2019887211, 2019887254, 2019887254, 2019887358, 2019887254, 2019887210, 2019887227, 2019887227, 2019887227, 2019887227, 2019887227, 2019887227, 2019887358, 2019887210, 2019887335, 2019887210, 2019887335, 2019887210, 2019887335, 2019887200, 2019887335, 2019887200, 2019887358, 2019887200, 2019887200, 2019887240, 2019887358, 2019887240, 2019887240, 2019887241, 2019887240, 2019887241, 2019887358, 2019887241]\n"
     ]
    }
   ],
   "source": [
    "import ipaddress\n",
    "lenth=len(catch)\n",
    "data=[]\n",
    "num=[]\n",
    "for i in range(lenth):\n",
    "    if (int(catch[i][0].type)==2048):\n",
    "        if (catch[i][IP].src!=\"0.0.0.0\"):\n",
    "            tmp=catch[i][IP].src\n",
    "            data.append(tmp)\n",
    "            num.append(int(ipaddress.ip_address(tmp)))\n",
    "    elif (int(catch[i][0].type)==2054):\n",
    "        if (catch[i][ARP].psrc!=\"0.0.0.0\"):\n",
    "            tmp=catch[i][ARP].psrc\n",
    "            data.append(tmp)\n",
    "            num.append(int(ipaddress.ip_address(tmp)))\n",
    "print (data)\n",
    "print (num)"
   ]
  },
  {
   "cell_type": "markdown",
   "metadata": {},
   "source": [
    "# List to Dataframe"
   ]
  },
  {
   "cell_type": "code",
   "execution_count": 10,
   "metadata": {},
   "outputs": [],
   "source": [
    "import pandas as pd\n",
    "data={'number':num,'ip_address':data}\n",
    "data=pd.DataFrame(data)"
   ]
  },
  {
   "cell_type": "code",
   "execution_count": 11,
   "metadata": {},
   "outputs": [],
   "source": [
    "data3=data.drop_duplicates('ip_address',keep='first',inplace=False)\n",
    "data3=data3.sort_values(by='number')\n",
    "data3"
   ]
  },
  {
   "cell_type": "code",
   "execution_count": 13,
   "metadata": {},
   "outputs": [],
   "source": [
    "last=(data3.iloc[-3]).ip_address"
   ]
  },
  {
   "cell_type": "code",
   "execution_count": 14,
   "metadata": {},
   "outputs": [],
   "source": [
    "first=(data3.iloc[0]).ip_address"
   ]
  },
  {
   "cell_type": "code",
   "execution_count": 15,
   "metadata": {},
   "outputs": [
    {
     "name": "stdout",
     "output_type": "stream",
     "text": [
      "-194\n",
      "4294967101\n",
      "255.255.255.61\n"
     ]
    }
   ],
   "source": [
    "lasto=int(ipaddress.IPv4Address(last))\n",
    "firsto=int(ipaddress.IPv4Address(first))\n",
    "mask=((lasto&firsto)|(~(lasto|firsto)))\n",
    "print (mask)\n",
    "tmp=int(ipaddress.IPv4Address(\"255.255.255.255\"))+mask\n",
    "print (tmp)\n",
    "#mask=str(ipaddress.IPv4Address((lasto^firsto)))\n",
    "tmp2=str(ipaddress.IPv4Address(tmp))\n",
    "print (tmp2)"
   ]
  },
  {
   "cell_type": "markdown",
   "metadata": {},
   "source": [
    "# Network mask "
   ]
  },
  {
   "cell_type": "code",
   "execution_count": 16,
   "metadata": {},
   "outputs": [
    {
     "name": "stdout",
     "output_type": "stream",
     "text": [
      "24\n"
     ]
    }
   ],
   "source": [
    "#print (ipaddress.IPv4Address(tmp2))\n",
    "for i in range(2,31):\n",
    "    temp=i\n",
    "    temp=str(temp)\n",
    "    s1=\"255.255.255.0/\" + temp\n",
    "    z=ipaddress.ip_network(s1,strict=False)\n",
    "    #print (z)\n",
    "    mask=0\n",
    "    if(ipaddress.IPv4Address(tmp2)<z.netmask):\n",
    "        print (i-1)\n",
    "        mask=i-1\n",
    "        break"
   ]
  },
  {
   "cell_type": "markdown",
   "metadata": {},
   "source": [
    "# Gateway"
   ]
  },
  {
   "cell_type": "code",
   "execution_count": 17,
   "metadata": {},
   "outputs": [
    {
     "name": "stdout",
     "output_type": "stream",
     "text": [
      "['120.101.8.229', '120.101.8.92', '120.101.8.86', '120.101.8.215', '120.101.8.86', '120.101.8.215', '120.101.8.52', '120.101.8.254', '120.101.8.74', '120.101.8.1', '120.101.8.254', '120.101.8.153', '120.101.8.38', '120.101.8.254', '120.101.8.122', '120.101.8.96', '120.101.8.254', '120.101.8.184', '120.101.8.254', '120.101.8.15', '120.101.8.107', '120.101.8.86', '120.101.8.254', '120.101.8.15', '120.101.8.88', '120.101.8.1', '120.101.8.254', '120.101.8.12', '120.101.8.95', '120.101.8.254', '120.101.8.254', '120.101.8.95', '120.101.8.107', '120.101.8.141', '120.101.8.254', '120.101.8.165', '120.101.8.254', '120.101.8.248', '120.101.8.254', '120.101.8.15', '120.101.8.254', '120.101.8.15', '120.101.8.254', '120.101.8.246']\n"
     ]
    }
   ],
   "source": [
    "arp=[]\n",
    "for i in range(lenth):\n",
    "    if (int(catch[i][0].type)==2054):\n",
    "        if (catch[i][ARP].psrc!=\"0.0.0.0\"):\n",
    "            src=catch[i][ARP].psrc\n",
    "            dst=catch[i][ARP].pdst\n",
    "            arp.append(src)\n",
    "            arp.append(dst)\n",
    "print (arp)"
   ]
  },
  {
   "cell_type": "code",
   "execution_count": 29,
   "metadata": {
    "scrolled": true
   },
   "outputs": [
    {
     "name": "stdout",
     "output_type": "stream",
     "text": [
      "{'120.101.8.229': 1, '120.101.8.92': 1, '120.101.8.86': 3, '120.101.8.215': 2, '120.101.8.52': 1, '120.101.8.254': 14, '120.101.8.74': 1, '120.101.8.1': 2, '120.101.8.153': 1, '120.101.8.38': 1, '120.101.8.122': 1, '120.101.8.96': 1, '120.101.8.184': 1, '120.101.8.15': 4, '120.101.8.107': 2, '120.101.8.88': 1, '120.101.8.12': 1, '120.101.8.95': 2, '120.101.8.141': 1, '120.101.8.165': 1, '120.101.8.248': 1, '120.101.8.246': 1}\n"
     ]
    }
   ],
   "source": [
    "dict={}\n",
    "maxaddr=0\n",
    "GW=''\n",
    "for key in arp:\n",
    "    dict[key]=dict.get(key,0)+1\n",
    "    if (maxaddr<dict[key]):\n",
    "        maxaddr=dict[key]\n",
    "        GW=key\n",
    "print(dict)"
   ]
  },
  {
   "cell_type": "code",
   "execution_count": 32,
   "metadata": {},
   "outputs": [
    {
     "data": {
      "text/plain": [
       "14"
      ]
     },
     "execution_count": 32,
     "metadata": {},
     "output_type": "execute_result"
    }
   ],
   "source": [
    "dict['120.101.8.254']"
   ]
  },
  {
   "cell_type": "code",
   "execution_count": 33,
   "metadata": {},
   "outputs": [
    {
     "data": {
      "text/plain": [
       "'120.101.8.254'"
      ]
     },
     "execution_count": 33,
     "metadata": {},
     "output_type": "execute_result"
    }
   ],
   "source": [
    "GW"
   ]
  }
 ],
 "metadata": {
  "kernelspec": {
   "display_name": "Python 3",
   "language": "python",
   "name": "python3"
  },
  "language_info": {
   "codemirror_mode": {
    "name": "ipython",
    "version": 3
   },
   "file_extension": ".py",
   "mimetype": "text/x-python",
   "name": "python",
   "nbconvert_exporter": "python",
   "pygments_lexer": "ipython3",
   "version": "3.7.3"
  }
 },
 "nbformat": 4,
 "nbformat_minor": 2
}
