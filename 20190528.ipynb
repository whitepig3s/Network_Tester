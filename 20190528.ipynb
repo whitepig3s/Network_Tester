{
 "cells": [
  {
   "cell_type": "code",
   "execution_count": 157,
   "metadata": {},
   "outputs": [
    {
     "name": "stdout",
     "output_type": "stream",
     "text": [
      "Ping Google DNS...\n",
      "Received 10 packet.\n",
      "Sucess\n",
      "Finished Test.\n"
     ]
    }
   ],
   "source": [
    "from  scapy.all import *\n",
    "import netifaces\n",
    "from subprocess import run\n",
    "\n",
    "print (\"Ping Google DNS...\")\n",
    "ping_google=subprocess.getoutput('ping 8.8.8.8 -c 10')\n",
    "ping_google=ping_google.split(',')\n",
    "received=int((ping_google[1].split(' '))[1])\n",
    "ping_google_result=\"Received %d packet.\" %(received)\n",
    "print (ping_google_result)\n",
    "if (received>=9):\n",
    "    print (\"Sucess\")\n",
    "else:\n",
    "    print (\"Somethng wrong in the network.\")\n",
    "    print ('Searching problem...')\n",
    "    carrier=open('/sys/class/net/eth0/carrier','r') \n",
    "    connect=carrier.readline()\n",
    "    if (connect=='0\\n'):\n",
    "        print (\"operstate: down\")\n",
    "    else:\n",
    "        print (\"operstate: up\")\n",
    "        \n",
    "        '''IP state'''\n",
    "        interface=open('/etc/network/interfaces','r')\n",
    "        state=interface.readlines()\n",
    "        static=False\n",
    "        for i in state:\n",
    "            if (0<i.find(\"static\")):\n",
    "                static=True\n",
    "        if (static==True):        \n",
    "            print(\"IP state: Static\")\n",
    "        else:\n",
    "            print(\"IP state: DHCP\")\n",
    "            \n",
    "        '''print network_inf'''\n",
    "        addr=netifaces.ifaddresses('eth0')[2][0]['addr']\n",
    "        netmask=netifaces.ifaddresses('eth0')[2][0]['netmask']\n",
    "        gateway=netifaces.gateways()[2][0][0]\n",
    "        network_inf = \"Address: %s\\nNetmask: %s\\nGateway: %s\"%(addr,netmask,gateway)\n",
    "        print (network_inf)\n",
    "        \n",
    "        print (\"Ping Gateway...\")\n",
    "        ping_gw='ping '+gateway+\" -c 10\"\n",
    "        gw_test=subprocess.getoutput(ping_gw)\n",
    "        ping_gw_result=(gw_test.split(','))[1]\n",
    "        ping_gw_result=int(ping_gw_result.split(' ')[1])\n",
    "        \n",
    "        if (ping_gw_result>=9):\n",
    "            print (\"Sucess\")\n",
    "        else:\n",
    "            print (\"Failed\")\n",
    "print(\"Finished Test.\")"
   ]
  },
  {
   "cell_type": "code",
   "execution_count": 1,
   "metadata": {},
   "outputs": [
    {
     "name": "stdout",
     "output_type": "stream",
     "text": [
      "0000 Ether / IP / UDP 120.101.8.151:59472 > 239.255.255.250:1900 / Raw\n",
      "0001 Ether / IPv6 / UDP fe80::d535:4eb7:b753:aba3:58396 > ff02::c:1900 / Raw\n",
      "0002 Ether / ARP who has 120.101.8.215 says 120.101.8.86 / Padding\n",
      "0003 Ether / ARP who has 120.101.8.215 says 120.101.8.86 / Padding\n",
      "0004 Ether / IP / UDP 192.168.0.254:1025 > 239.255.255.250:1900 / Raw\n",
      "0005 Ether / IP / UDP 192.168.0.254:1025 > 239.255.255.250:1900 / Raw\n",
      "0006 Ether / IP / UDP 192.168.0.254:1025 > 239.255.255.250:1900 / Raw\n",
      "0007 Ether / IP / UDP 192.168.0.254:1025 > 239.255.255.250:1900 / Raw\n",
      "0008 Ether / IP / UDP 192.168.0.254:1025 > 239.255.255.250:1900 / Raw\n",
      "0009 Ether / IP / UDP 192.168.0.254:1025 > 239.255.255.250:1900 / Raw\n",
      "0010 Ether / IP / UDP 192.168.0.254:1025 > 239.255.255.250:1900 / Raw\n",
      "0011 Ether / IP / UDP 192.168.0.254:1025 > 239.255.255.250:1900 / Raw\n",
      "0012 Ether / IP / UDP 192.168.0.254:1025 > 239.255.255.250:1900 / Raw\n",
      "0013 Ether / IP / UDP 192.168.0.254:1025 > 239.255.255.250:1900 / Raw\n",
      "0014 Ether / ARP who has 120.101.8.8 says 120.101.8.214 / Padding\n",
      "0015 Ether / IP / UDP 120.101.8.146:56016 > 239.255.255.250:1900 / Raw\n",
      "0016 Ether / ARP who has 120.101.8.51 says 120.101.8.254 / Padding\n",
      "0017 Ether / IP / UDP 120.101.8.229:62333 > 239.255.255.250:1900 / Raw\n",
      "0018 Ether / ARP who has 120.101.8.205 says 120.101.8.112 / Padding\n",
      "0019 Ether / IP / UDP 120.101.8.146:56016 > 239.255.255.250:1900 / Raw\n",
      "0020 Ether / IPv6 / UDP fe80::d535:4eb7:b753:aba3:58396 > ff02::c:1900 / Raw\n",
      "0021 Ether / IP / UDP 120.101.8.82:63868 > 239.255.255.250:1900 / Raw\n",
      "0022 Ether / ARP who has 120.101.8.205 says 120.101.8.112 / Padding\n",
      "0023 Ether / IP / UDP 120.101.8.146:56016 > 239.255.255.250:1900 / Raw\n",
      "0024 Ether / IP / UDP 120.101.8.82:63868 > 239.255.255.250:1900 / Raw\n",
      "0025 Ether / ARP who has 120.101.8.205 says 120.101.8.112 / Padding\n",
      "0026 Ether / ARP who has 120.101.8.211 says 120.101.8.114 / Padding\n",
      "0027 Ether / IP / UDP 120.101.8.146:56016 > 239.255.255.250:1900 / Raw\n",
      "0028 Ether / IP / UDP 120.101.8.82:63868 > 239.255.255.250:1900 / Raw\n",
      "0029 Ether / ARP who has 120.101.8.1 says 120.101.8.114 / Padding\n",
      "0030 Ether / IP / UDP 120.101.8.229:62333 > 239.255.255.250:1900 / Raw\n",
      "0031 Ether / IP / UDP 120.101.8.82:63868 > 239.255.255.250:1900 / Raw\n",
      "0032 Ether / IPv6 / UDP fe80::d535:4eb7:b753:aba3:58396 > ff02::c:1900 / Raw\n",
      "0033 Ether / IP / UDP 120.101.8.116:60135 > 239.255.255.250:1900 / Raw\n",
      "0034 Ether / ARP who has 120.101.8.221 says 120.101.8.254 / Padding\n",
      "0035 Ether / IPv6 / UDP fe80::f454:225d:2ff0:592b:62330 > ff02::c:1900 / Raw\n",
      "0036 Ether / IP / UDP 120.101.8.229:62333 > 239.255.255.250:1900 / Raw\n",
      "0037 Ether / IPv6 / UDP fe80::f454:225d:2ff0:592b:62330 > ff02::c:1900 / Raw\n",
      "0038 Ether / IP / UDP 120.101.8.229:62333 > 239.255.255.250:1900 / Raw\n",
      "0039 Ether / ARP who has 120.101.8.123 says 120.101.8.229 / Padding\n",
      "0040 Ether / ARP who has 120.101.8.189 says 120.101.8.229 / Padding\n",
      "0041 Ether / ARP who has 120.101.8.51 says 120.101.8.254 / Padding\n",
      "0042 Ether / IP / UDP 120.101.8.116:60135 > 239.255.255.250:1900 / Raw\n",
      "0043 Ether / ARP who has 120.101.8.2 says 120.101.8.80 / Padding\n",
      "0044 Ether / ARP who has 120.101.8.140 says 120.101.8.140 / Padding\n",
      "0045 Ether / IP / UDP 120.101.8.229:62333 > 239.255.255.250:1900 / Raw\n",
      "0046 Ether / ARP who has 120.101.8.229 says 120.101.8.86 / Padding\n",
      "0047 Ether / IP / UDP 120.101.8.149:57403 > 239.255.255.250:1900 / Raw\n",
      "0048 Ether / ARP who has 120.101.8.229 says 120.101.8.217 / Padding\n",
      "0049 Ether / ARP who has 120.101.8.215 says 120.101.8.86 / Padding\n",
      "0050 Ether / IP / UDP 120.101.8.116:60135 > 239.255.255.250:1900 / Raw\n"
     ]
    }
   ],
   "source": [
    "from  scapy.all import *\n",
    "catch =sniff (iface='eth0',filter =\"udp port 1900 or arp\" ,timeout=10)\n",
    "catch.show()\n"
   ]
  },
  {
   "cell_type": "code",
   "execution_count": 2,
   "metadata": {},
   "outputs": [
    {
     "data": {
      "text/plain": [
       "<Sniffed: TCP:0 UDP:33 ICMP:0 Other:18>"
      ]
     },
     "execution_count": 2,
     "metadata": {},
     "output_type": "execute_result"
    }
   ],
   "source": [
    "catch"
   ]
  },
  {
   "cell_type": "code",
   "execution_count": 3,
   "metadata": {},
   "outputs": [
    {
     "data": {
      "text/plain": [
       "<Sniffed: TCP:0 UDP:56 ICMP:0 Other:22>"
      ]
     },
     "execution_count": 3,
     "metadata": {},
     "output_type": "execute_result"
    }
   ],
   "source": [
    "from  scapy.all import *\n",
    "catch =sniff (iface='eth0',filter =\"ip and udp port 1900 or arp\" ,timeout=30)\n",
    "catch"
   ]
  },
  {
   "cell_type": "code",
   "execution_count": 4,
   "metadata": {},
   "outputs": [
    {
     "name": "stdout",
     "output_type": "stream",
     "text": [
      "0000 Ether / ARP who has 120.101.8.92 says 120.101.8.229 / Padding\n",
      "0001 Ether / ARP who has 120.101.8.215 says 120.101.8.86 / Padding\n",
      "0002 Ether / IP / UDP 120.101.8.116:60135 > 239.255.255.250:1900 / Raw\n",
      "0003 Ether / IP / UDP 120.101.8.149:57403 > 239.255.255.250:1900 / Raw\n",
      "0004 Ether / IP / UDP 120.101.8.229:62333 > 239.255.255.250:1900 / Raw\n",
      "0005 Ether / IP / UDP 120.101.8.229:62333 > 239.255.255.250:1900 / Raw\n",
      "0006 Ether / ARP who has 120.101.8.215 says 120.101.8.86 / Padding\n",
      "0007 Ether / IP / UDP 120.101.8.229:62333 > 239.255.255.250:1900 / Raw\n",
      "0008 Ether / IP / UDP 120.101.8.149:57403 > 239.255.255.250:1900 / Raw\n",
      "0009 Ether / IP / UDP 120.101.8.199:65310 > 239.255.255.250:1900 / Raw\n",
      "0010 Ether / ARP who has 120.101.8.254 says 120.101.8.52 / Padding\n",
      "0011 Ether / IP / UDP 120.101.8.199:65310 > 239.255.255.250:1900 / Raw\n",
      "0012 Ether / ARP who has 120.101.8.1 says 120.101.8.74 / Padding\n",
      "0013 Ether / IP / UDP 120.101.8.229:62333 > 239.255.255.250:1900 / Raw\n",
      "0014 Ether / IP / UDP 120.101.8.229:62333 > 239.255.255.250:1900 / Raw\n",
      "0015 Ether / ARP who has 120.101.8.153 says 120.101.8.254 / Padding\n",
      "0016 Ether / IP / UDP 120.101.8.199:65310 > 239.255.255.250:1900 / Raw\n",
      "0017 Ether / IP / UDP 120.101.8.229:62333 > 239.255.255.250:1900 / Raw\n",
      "0018 Ether / ARP who has 120.101.8.254 says 120.101.8.38 / Padding\n",
      "0019 Ether / IP / UDP 120.101.8.189:36688 > 239.255.255.250:1900 / Raw\n",
      "0020 Ether / IP / UDP 120.101.8.199:65310 > 239.255.255.250:1900 / Raw\n",
      "0021 Ether / IP / UDP 120.101.8.189:36688 > 239.255.255.250:1900 / Raw\n",
      "0022 Ether / IP / UDP 120.101.8.189:36688 > 239.255.255.250:1900 / Raw\n",
      "0023 Ether / IP / UDP 120.101.8.189:36688 > 239.255.255.250:1900 / Raw\n",
      "0024 Ether / ARP who has 120.101.8.96 says 120.101.8.122 / Padding\n",
      "0025 Ether / ARP who has 120.101.8.184 says 120.101.8.254 / Padding\n",
      "0026 Ether / ARP who has 120.101.8.15 says 120.101.8.254 / Padding\n",
      "0027 Ether / ARP who has 120.101.8.86 says 120.101.8.107 / Padding\n",
      "0028 Ether / ARP who has 120.101.8.15 says 120.101.8.254 / Padding\n",
      "0029 Ether / ARP who has 120.101.8.1 says 120.101.8.88 / Padding\n",
      "0030 Ether / IP / UDP 192.168.0.254:1025 > 239.255.255.250:1900 / Raw\n",
      "0031 Ether / IP / UDP 192.168.0.254:1025 > 239.255.255.250:1900 / Raw\n",
      "0032 Ether / IP / UDP 192.168.0.254:1025 > 239.255.255.250:1900 / Raw\n",
      "0033 Ether / IP / UDP 192.168.0.254:1025 > 239.255.255.250:1900 / Raw\n",
      "0034 Ether / IP / UDP 192.168.0.254:1025 > 239.255.255.250:1900 / Raw\n",
      "0035 Ether / IP / UDP 192.168.0.254:1025 > 239.255.255.250:1900 / Raw\n",
      "0036 Ether / IP / UDP 192.168.0.254:1025 > 239.255.255.250:1900 / Raw\n",
      "0037 Ether / IP / UDP 192.168.0.254:1025 > 239.255.255.250:1900 / Raw\n",
      "0038 Ether / IP / UDP 192.168.0.254:1025 > 239.255.255.250:1900 / Raw\n",
      "0039 Ether / IP / UDP 192.168.0.254:1025 > 239.255.255.250:1900 / Raw\n",
      "0040 Ether / ARP who has 120.101.8.12 says 120.101.8.254 / Padding\n",
      "0041 Ether / ARP who has 120.101.8.254 says 120.101.8.95\n",
      "0042 Ether / ARP is at 00:1e:7a:56:e2:c0 says 120.101.8.254 / Padding\n",
      "0043 Ether / IP / UDP 120.101.8.150:64624 > 239.255.255.250:1900 / Raw\n",
      "0044 Ether / ARP who has 120.101.8.141 says 120.101.8.107 / Padding\n",
      "0045 Ether / IP / UDP 120.101.8.150:64624 > 239.255.255.250:1900 / Raw\n",
      "0046 Ether / IP / UDP 120.101.8.150:64624 > 239.255.255.250:1900 / Raw\n",
      "0047 Ether / ARP who has 120.101.8.165 says 120.101.8.254 / Padding\n",
      "0048 Ether / IP / UDP 120.101.8.150:64624 > 239.255.255.250:1900 / Raw\n",
      "0049 Ether / IP / UDP 120.101.8.106:65113 > 239.255.255.250:1900 / Raw\n",
      "0050 Ether / IP / UDP 120.101.8.123:60713 > 239.255.255.250:1900 / Raw\n",
      "0051 Ether / IP / UDP 120.101.8.123:60713 > 239.255.255.250:1900 / Raw\n",
      "0052 Ether / IP / UDP 120.101.8.123:60713 > 239.255.255.250:1900 / Raw\n",
      "0053 Ether / IP / UDP 120.101.8.123:60713 > 239.255.255.250:1900 / Raw\n",
      "0054 Ether / IP / UDP 120.101.8.123:60713 > 239.255.255.250:1900 / Raw\n",
      "0055 Ether / IP / UDP 120.101.8.123:60713 > 239.255.255.250:1900 / Raw\n",
      "0056 Ether / ARP who has 120.101.8.248 says 120.101.8.254 / Padding\n",
      "0057 Ether / IP / UDP 120.101.8.106:65113 > 239.255.255.250:1900 / Raw\n",
      "0058 Ether / IP / UDP 120.101.8.231:64834 > 239.255.255.250:1900 / Raw\n",
      "0059 Ether / IP / UDP 120.101.8.106:65113 > 239.255.255.250:1900 / Raw\n",
      "0060 Ether / IP / UDP 120.101.8.231:64834 > 239.255.255.250:1900 / Raw\n",
      "0061 Ether / IP / UDP 120.101.8.106:65113 > 239.255.255.250:1900 / Raw\n",
      "0062 Ether / IP / UDP 120.101.8.231:64834 > 239.255.255.250:1900 / Raw\n",
      "0063 Ether / IP / UDP 120.101.8.96:63349 > 239.255.255.250:1900 / Raw\n",
      "0064 Ether / IP / UDP 120.101.8.231:64834 > 239.255.255.250:1900 / Raw\n",
      "0065 Ether / IP / UDP 120.101.8.96:63349 > 239.255.255.250:1900 / Raw\n",
      "0066 Ether / ARP who has 120.101.8.15 says 120.101.8.254 / Padding\n",
      "0067 Ether / IP / UDP 120.101.8.96:63349 > 239.255.255.250:1900 / Raw\n",
      "0068 Ether / IP / UDP 120.101.8.96:63349 > 239.255.255.250:1900 / Raw\n",
      "0069 Ether / IP / UDP 120.101.8.136:58617 > 239.255.255.250:1900 / Raw\n",
      "0070 Ether / ARP who has 120.101.8.15 says 120.101.8.254 / Padding\n",
      "0071 Ether / IP / UDP 120.101.8.136:58617 > 239.255.255.250:1900 / Raw\n",
      "0072 Ether / IP / UDP 120.101.8.136:58617 > 239.255.255.250:1900 / Raw\n",
      "0073 Ether / IP / UDP 120.101.8.137:63125 > 239.255.255.250:1900 / Raw\n",
      "0074 Ether / IP / UDP 120.101.8.136:58617 > 239.255.255.250:1900 / Raw\n",
      "0075 Ether / IP / UDP 120.101.8.137:63125 > 239.255.255.250:1900 / Raw\n",
      "0076 Ether / ARP who has 120.101.8.246 says 120.101.8.254 / Padding\n",
      "0077 Ether / IP / UDP 120.101.8.137:63125 > 239.255.255.250:1900 / Raw\n"
     ]
    }
   ],
   "source": [
    "catch.show()"
   ]
  },
  {
   "cell_type": "code",
   "execution_count": 5,
   "metadata": {},
   "outputs": [
    {
     "name": "stdout",
     "output_type": "stream",
     "text": [
      "###[ Ethernet ]### \n",
      "  dst       = ff:ff:ff:ff:ff:ff\n",
      "  src       = 98:ee:cb:46:d5:d0\n",
      "  type      = 0x806\n",
      "###[ ARP ]### \n",
      "     hwtype    = 0x1\n",
      "     ptype     = 0x800\n",
      "     hwlen     = 6\n",
      "     plen      = 4\n",
      "     op        = who-has\n",
      "     hwsrc     = 98:ee:cb:46:d5:d0\n",
      "     psrc      = 120.101.8.86\n",
      "     hwdst     = 00:00:00:00:00:00\n",
      "     pdst      = 120.101.8.215\n",
      "###[ Padding ]### \n",
      "        load      = '\\x00\\x00\\x00\\x00\\x00\\x00\\x00\\x00\\x00\\x00\\x00\\x00\\x00\\x00\\x00\\x00\\x00\\x00'\n",
      "\n",
      "None\n"
     ]
    }
   ],
   "source": [
    "print (catch[1][0].show())"
   ]
  },
  {
   "cell_type": "code",
   "execution_count": 6,
   "metadata": {},
   "outputs": [
    {
     "name": "stdout",
     "output_type": "stream",
     "text": [
      "###[ Ethernet ]### \n",
      "  dst       = ff:ff:ff:ff:ff:ff\n",
      "  src       = 98:ee:cb:46:d5:d0\n",
      "  type      = 0x806\n",
      "###[ ARP ]### \n",
      "     hwtype    = 0x1\n",
      "     ptype     = 0x800\n",
      "     hwlen     = 6\n",
      "     plen      = 4\n",
      "     op        = who-has\n",
      "     hwsrc     = 98:ee:cb:46:d5:d0\n",
      "     psrc      = 120.101.8.86\n",
      "     hwdst     = 00:00:00:00:00:00\n",
      "     pdst      = 120.101.8.215\n",
      "###[ Padding ]### \n",
      "        load      = '\\x00\\x00\\x00\\x00\\x00\\x00\\x00\\x00\\x00\\x00\\x00\\x00\\x00\\x00\\x00\\x00\\x00\\x00'\n",
      "\n",
      "None\n",
      "###[ Ethernet ]### \n",
      "  dst       = ff:ff:ff:ff:ff:ff\n",
      "  src       = 74:27:ea:fd:33:77\n",
      "  type      = 0x806\n",
      "###[ ARP ]### \n",
      "     hwtype    = 0x1\n",
      "     ptype     = 0x800\n",
      "     hwlen     = 6\n",
      "     plen      = 4\n",
      "     op        = who-has\n",
      "     hwsrc     = 74:27:ea:fd:33:77\n",
      "     psrc      = 120.101.8.74\n",
      "     hwdst     = 00:00:00:00:00:00\n",
      "     pdst      = 120.101.8.1\n",
      "###[ Padding ]### \n",
      "        load      = '\\x00\\x00\\x00\\x00\\x00\\x00\\x00\\x00\\x00\\x00\\x00\\x00\\x00\\x00\\x00\\x00\\x00\\x00'\n",
      "\n",
      "None\n"
     ]
    }
   ],
   "source": [
    "lenth=len(catch)\n",
    "lenth\n",
    "print (catch[1][0].show())\n",
    "print (catch[12][0].show())"
   ]
  },
  {
   "cell_type": "code",
   "execution_count": 7,
   "metadata": {},
   "outputs": [
    {
     "name": "stdout",
     "output_type": "stream",
     "text": [
      "ARP\n",
      "120.101.8.229\n",
      "ARP\n",
      "120.101.8.86\n",
      "120.101.8.116\n",
      "120.101.8.149\n",
      "120.101.8.229\n",
      "120.101.8.229\n",
      "ARP\n",
      "120.101.8.86\n",
      "120.101.8.229\n",
      "120.101.8.149\n",
      "120.101.8.199\n",
      "ARP\n",
      "120.101.8.52\n",
      "120.101.8.199\n",
      "ARP\n",
      "120.101.8.74\n",
      "120.101.8.229\n",
      "120.101.8.229\n",
      "ARP\n",
      "120.101.8.254\n",
      "120.101.8.199\n",
      "120.101.8.229\n",
      "ARP\n",
      "120.101.8.38\n",
      "120.101.8.189\n",
      "120.101.8.199\n",
      "120.101.8.189\n",
      "120.101.8.189\n",
      "120.101.8.189\n",
      "ARP\n",
      "120.101.8.122\n",
      "ARP\n",
      "120.101.8.254\n",
      "ARP\n",
      "120.101.8.254\n",
      "ARP\n",
      "120.101.8.107\n",
      "ARP\n",
      "120.101.8.254\n",
      "ARP\n",
      "120.101.8.88\n",
      "192.168.0.254\n",
      "192.168.0.254\n",
      "192.168.0.254\n",
      "192.168.0.254\n",
      "192.168.0.254\n",
      "192.168.0.254\n",
      "192.168.0.254\n",
      "192.168.0.254\n",
      "192.168.0.254\n",
      "192.168.0.254\n",
      "ARP\n",
      "120.101.8.254\n",
      "ARP\n",
      "120.101.8.95\n",
      "ARP\n",
      "120.101.8.254\n",
      "120.101.8.150\n",
      "ARP\n",
      "120.101.8.107\n",
      "120.101.8.150\n",
      "120.101.8.150\n",
      "ARP\n",
      "120.101.8.254\n",
      "120.101.8.150\n",
      "120.101.8.106\n",
      "120.101.8.123\n",
      "120.101.8.123\n",
      "120.101.8.123\n",
      "120.101.8.123\n",
      "120.101.8.123\n",
      "120.101.8.123\n",
      "ARP\n",
      "120.101.8.254\n",
      "120.101.8.106\n",
      "120.101.8.231\n",
      "120.101.8.106\n",
      "120.101.8.231\n",
      "120.101.8.106\n",
      "120.101.8.231\n",
      "120.101.8.96\n",
      "120.101.8.231\n",
      "120.101.8.96\n",
      "ARP\n",
      "120.101.8.254\n",
      "120.101.8.96\n",
      "120.101.8.96\n",
      "120.101.8.136\n",
      "ARP\n",
      "120.101.8.254\n",
      "120.101.8.136\n",
      "120.101.8.136\n",
      "120.101.8.137\n",
      "120.101.8.136\n",
      "120.101.8.137\n",
      "ARP\n",
      "120.101.8.254\n",
      "120.101.8.137\n"
     ]
    }
   ],
   "source": [
    "lenth=len(catch)\n",
    "for i in range(lenth):\n",
    "        if (int(catch[i][0].type)==2048):\n",
    "            print (catch[i][IP].src)\n",
    "        else:\n",
    "            print (\"ARP\")\n",
    "            print (catch[i][ARP].psrc)"
   ]
  },
  {
   "cell_type": "code",
   "execution_count": 9,
   "metadata": {},
   "outputs": [
    {
     "name": "stdout",
     "output_type": "stream",
     "text": [
      "['120.101.8.229', '120.101.8.86', '120.101.8.116', '120.101.8.149', '120.101.8.229', '120.101.8.229', '120.101.8.86', '120.101.8.229', '120.101.8.149', '120.101.8.199', '120.101.8.52', '120.101.8.199', '120.101.8.74', '120.101.8.229', '120.101.8.229', '120.101.8.254', '120.101.8.199', '120.101.8.229', '120.101.8.38', '120.101.8.189', '120.101.8.199', '120.101.8.189', '120.101.8.189', '120.101.8.189', '120.101.8.122', '120.101.8.254', '120.101.8.254', '120.101.8.107', '120.101.8.254', '120.101.8.88', '192.168.0.254', '192.168.0.254', '192.168.0.254', '192.168.0.254', '192.168.0.254', '192.168.0.254', '192.168.0.254', '192.168.0.254', '192.168.0.254', '192.168.0.254', '120.101.8.254', '120.101.8.95', '120.101.8.254', '120.101.8.150', '120.101.8.107', '120.101.8.150', '120.101.8.150', '120.101.8.254', '120.101.8.150', '120.101.8.106', '120.101.8.123', '120.101.8.123', '120.101.8.123', '120.101.8.123', '120.101.8.123', '120.101.8.123', '120.101.8.254', '120.101.8.106', '120.101.8.231', '120.101.8.106', '120.101.8.231', '120.101.8.106', '120.101.8.231', '120.101.8.96', '120.101.8.231', '120.101.8.96', '120.101.8.254', '120.101.8.96', '120.101.8.96', '120.101.8.136', '120.101.8.254', '120.101.8.136', '120.101.8.136', '120.101.8.137', '120.101.8.136', '120.101.8.137', '120.101.8.254', '120.101.8.137']\n",
      "[2019887333, 2019887190, 2019887220, 2019887253, 2019887333, 2019887333, 2019887190, 2019887333, 2019887253, 2019887303, 2019887156, 2019887303, 2019887178, 2019887333, 2019887333, 2019887358, 2019887303, 2019887333, 2019887142, 2019887293, 2019887303, 2019887293, 2019887293, 2019887293, 2019887226, 2019887358, 2019887358, 2019887211, 2019887358, 2019887192, 3232235774, 3232235774, 3232235774, 3232235774, 3232235774, 3232235774, 3232235774, 3232235774, 3232235774, 3232235774, 2019887358, 2019887199, 2019887358, 2019887254, 2019887211, 2019887254, 2019887254, 2019887358, 2019887254, 2019887210, 2019887227, 2019887227, 2019887227, 2019887227, 2019887227, 2019887227, 2019887358, 2019887210, 2019887335, 2019887210, 2019887335, 2019887210, 2019887335, 2019887200, 2019887335, 2019887200, 2019887358, 2019887200, 2019887200, 2019887240, 2019887358, 2019887240, 2019887240, 2019887241, 2019887240, 2019887241, 2019887358, 2019887241]\n"
     ]
    }
   ],
   "source": [
    "import ipaddress\n",
    "lenth=len(catch)\n",
    "data=[]\n",
    "num=[]\n",
    "for i in range(lenth):\n",
    "    if (int(catch[i][0].type)==2048):\n",
    "        if (catch[i][IP].src!=\"0.0.0.0\"):\n",
    "            tmp=catch[i][IP].src\n",
    "            data.append(tmp)\n",
    "            num.append(int(ipaddress.ip_address(tmp)))\n",
    "    elif (int(catch[i][0].type)==2054):\n",
    "        if (catch[i][ARP].psrc!=\"0.0.0.0\"):\n",
    "            tmp=catch[i][ARP].psrc\n",
    "            data.append(tmp)\n",
    "            num.append(int(ipaddress.ip_address(tmp)))\n",
    "print (data)\n",
    "print (num)"
   ]
  },
  {
   "cell_type": "code",
   "execution_count": 10,
   "metadata": {},
   "outputs": [],
   "source": [
    "import pandas as pd\n",
    "data={'number':num,'ip_address':data}\n",
    "data=pd.DataFrame(data)"
   ]
  },
  {
   "cell_type": "code",
   "execution_count": 11,
   "metadata": {},
   "outputs": [],
   "source": [
    "data3=data.drop_duplicates('ip_address',keep='first',inplace=False)\n",
    "data3=data3.sort_values(by='number')"
   ]
  },
  {
   "cell_type": "code",
   "execution_count": 12,
   "metadata": {},
   "outputs": [
    {
     "data": {
      "text/html": [
       "<div>\n",
       "<style scoped>\n",
       "    .dataframe tbody tr th:only-of-type {\n",
       "        vertical-align: middle;\n",
       "    }\n",
       "\n",
       "    .dataframe tbody tr th {\n",
       "        vertical-align: top;\n",
       "    }\n",
       "\n",
       "    .dataframe thead th {\n",
       "        text-align: right;\n",
       "    }\n",
       "</style>\n",
       "<table border=\"1\" class=\"dataframe\">\n",
       "  <thead>\n",
       "    <tr style=\"text-align: right;\">\n",
       "      <th></th>\n",
       "      <th>number</th>\n",
       "      <th>ip_address</th>\n",
       "    </tr>\n",
       "  </thead>\n",
       "  <tbody>\n",
       "    <tr>\n",
       "      <th>18</th>\n",
       "      <td>2019887142</td>\n",
       "      <td>120.101.8.38</td>\n",
       "    </tr>\n",
       "    <tr>\n",
       "      <th>10</th>\n",
       "      <td>2019887156</td>\n",
       "      <td>120.101.8.52</td>\n",
       "    </tr>\n",
       "    <tr>\n",
       "      <th>12</th>\n",
       "      <td>2019887178</td>\n",
       "      <td>120.101.8.74</td>\n",
       "    </tr>\n",
       "    <tr>\n",
       "      <th>1</th>\n",
       "      <td>2019887190</td>\n",
       "      <td>120.101.8.86</td>\n",
       "    </tr>\n",
       "    <tr>\n",
       "      <th>29</th>\n",
       "      <td>2019887192</td>\n",
       "      <td>120.101.8.88</td>\n",
       "    </tr>\n",
       "    <tr>\n",
       "      <th>41</th>\n",
       "      <td>2019887199</td>\n",
       "      <td>120.101.8.95</td>\n",
       "    </tr>\n",
       "    <tr>\n",
       "      <th>63</th>\n",
       "      <td>2019887200</td>\n",
       "      <td>120.101.8.96</td>\n",
       "    </tr>\n",
       "    <tr>\n",
       "      <th>49</th>\n",
       "      <td>2019887210</td>\n",
       "      <td>120.101.8.106</td>\n",
       "    </tr>\n",
       "    <tr>\n",
       "      <th>27</th>\n",
       "      <td>2019887211</td>\n",
       "      <td>120.101.8.107</td>\n",
       "    </tr>\n",
       "    <tr>\n",
       "      <th>2</th>\n",
       "      <td>2019887220</td>\n",
       "      <td>120.101.8.116</td>\n",
       "    </tr>\n",
       "    <tr>\n",
       "      <th>24</th>\n",
       "      <td>2019887226</td>\n",
       "      <td>120.101.8.122</td>\n",
       "    </tr>\n",
       "    <tr>\n",
       "      <th>50</th>\n",
       "      <td>2019887227</td>\n",
       "      <td>120.101.8.123</td>\n",
       "    </tr>\n",
       "    <tr>\n",
       "      <th>69</th>\n",
       "      <td>2019887240</td>\n",
       "      <td>120.101.8.136</td>\n",
       "    </tr>\n",
       "    <tr>\n",
       "      <th>73</th>\n",
       "      <td>2019887241</td>\n",
       "      <td>120.101.8.137</td>\n",
       "    </tr>\n",
       "    <tr>\n",
       "      <th>3</th>\n",
       "      <td>2019887253</td>\n",
       "      <td>120.101.8.149</td>\n",
       "    </tr>\n",
       "    <tr>\n",
       "      <th>43</th>\n",
       "      <td>2019887254</td>\n",
       "      <td>120.101.8.150</td>\n",
       "    </tr>\n",
       "    <tr>\n",
       "      <th>19</th>\n",
       "      <td>2019887293</td>\n",
       "      <td>120.101.8.189</td>\n",
       "    </tr>\n",
       "    <tr>\n",
       "      <th>9</th>\n",
       "      <td>2019887303</td>\n",
       "      <td>120.101.8.199</td>\n",
       "    </tr>\n",
       "    <tr>\n",
       "      <th>0</th>\n",
       "      <td>2019887333</td>\n",
       "      <td>120.101.8.229</td>\n",
       "    </tr>\n",
       "    <tr>\n",
       "      <th>58</th>\n",
       "      <td>2019887335</td>\n",
       "      <td>120.101.8.231</td>\n",
       "    </tr>\n",
       "    <tr>\n",
       "      <th>15</th>\n",
       "      <td>2019887358</td>\n",
       "      <td>120.101.8.254</td>\n",
       "    </tr>\n",
       "    <tr>\n",
       "      <th>30</th>\n",
       "      <td>3232235774</td>\n",
       "      <td>192.168.0.254</td>\n",
       "    </tr>\n",
       "  </tbody>\n",
       "</table>\n",
       "</div>"
      ],
      "text/plain": [
       "        number     ip_address\n",
       "18  2019887142   120.101.8.38\n",
       "10  2019887156   120.101.8.52\n",
       "12  2019887178   120.101.8.74\n",
       "1   2019887190   120.101.8.86\n",
       "29  2019887192   120.101.8.88\n",
       "41  2019887199   120.101.8.95\n",
       "63  2019887200   120.101.8.96\n",
       "49  2019887210  120.101.8.106\n",
       "27  2019887211  120.101.8.107\n",
       "2   2019887220  120.101.8.116\n",
       "24  2019887226  120.101.8.122\n",
       "50  2019887227  120.101.8.123\n",
       "69  2019887240  120.101.8.136\n",
       "73  2019887241  120.101.8.137\n",
       "3   2019887253  120.101.8.149\n",
       "43  2019887254  120.101.8.150\n",
       "19  2019887293  120.101.8.189\n",
       "9   2019887303  120.101.8.199\n",
       "0   2019887333  120.101.8.229\n",
       "58  2019887335  120.101.8.231\n",
       "15  2019887358  120.101.8.254\n",
       "30  3232235774  192.168.0.254"
      ]
     },
     "execution_count": 12,
     "metadata": {},
     "output_type": "execute_result"
    }
   ],
   "source": [
    "data3"
   ]
  },
  {
   "cell_type": "code",
   "execution_count": 13,
   "metadata": {},
   "outputs": [],
   "source": [
    "last=(data3.iloc[-3]).ip_address"
   ]
  },
  {
   "cell_type": "code",
   "execution_count": 14,
   "metadata": {},
   "outputs": [],
   "source": [
    "first=(data3.iloc[0]).ip_address"
   ]
  },
  {
   "cell_type": "code",
   "execution_count": 15,
   "metadata": {},
   "outputs": [
    {
     "name": "stdout",
     "output_type": "stream",
     "text": [
      "-194\n",
      "4294967101\n",
      "255.255.255.61\n"
     ]
    }
   ],
   "source": [
    "lasto=int(ipaddress.IPv4Address(last))\n",
    "firsto=int(ipaddress.IPv4Address(first))\n",
    "mask=((lasto&firsto)|(~(lasto|firsto)))\n",
    "print (mask)\n",
    "tmp=int(ipaddress.IPv4Address(\"255.255.255.255\"))+mask\n",
    "print (tmp)\n",
    "#mask=str(ipaddress.IPv4Address((lasto^firsto)))\n",
    "tmp2=str(ipaddress.IPv4Address(tmp))\n",
    "print (tmp2)"
   ]
  },
  {
   "cell_type": "code",
   "execution_count": 16,
   "metadata": {},
   "outputs": [
    {
     "name": "stdout",
     "output_type": "stream",
     "text": [
      "24\n"
     ]
    }
   ],
   "source": [
    "#print (ipaddress.IPv4Address(tmp2))\n",
    "for i in range(2,31):\n",
    "    temp=i\n",
    "    temp=str(temp)\n",
    "    s1=\"255.255.255.0/\" + temp\n",
    "    z=ipaddress.ip_network(s1,strict=False)\n",
    "    #print (z)\n",
    "    mask=0\n",
    "    if(ipaddress.IPv4Address(tmp2)<z.netmask):\n",
    "        print (i-1)\n",
    "        mask=i-1\n",
    "        break"
   ]
  },
  {
   "cell_type": "code",
   "execution_count": 17,
   "metadata": {},
   "outputs": [
    {
     "name": "stdout",
     "output_type": "stream",
     "text": [
      "['120.101.8.229', '120.101.8.92', '120.101.8.86', '120.101.8.215', '120.101.8.86', '120.101.8.215', '120.101.8.52', '120.101.8.254', '120.101.8.74', '120.101.8.1', '120.101.8.254', '120.101.8.153', '120.101.8.38', '120.101.8.254', '120.101.8.122', '120.101.8.96', '120.101.8.254', '120.101.8.184', '120.101.8.254', '120.101.8.15', '120.101.8.107', '120.101.8.86', '120.101.8.254', '120.101.8.15', '120.101.8.88', '120.101.8.1', '120.101.8.254', '120.101.8.12', '120.101.8.95', '120.101.8.254', '120.101.8.254', '120.101.8.95', '120.101.8.107', '120.101.8.141', '120.101.8.254', '120.101.8.165', '120.101.8.254', '120.101.8.248', '120.101.8.254', '120.101.8.15', '120.101.8.254', '120.101.8.15', '120.101.8.254', '120.101.8.246']\n"
     ]
    }
   ],
   "source": [
    "arp=[]\n",
    "for i in range(lenth):\n",
    "    if (int(catch[i][0].type)==2054):\n",
    "        if (catch[i][ARP].psrc!=\"0.0.0.0\"):\n",
    "            src=catch[i][ARP].psrc\n",
    "            dst=catch[i][ARP].pdst\n",
    "            arp.append(src)\n",
    "            arp.append(dst)\n",
    "print (arp)"
   ]
  },
  {
   "cell_type": "code",
   "execution_count": 29,
   "metadata": {
    "scrolled": true
   },
   "outputs": [
    {
     "name": "stdout",
     "output_type": "stream",
     "text": [
      "{'120.101.8.229': 1, '120.101.8.92': 1, '120.101.8.86': 3, '120.101.8.215': 2, '120.101.8.52': 1, '120.101.8.254': 14, '120.101.8.74': 1, '120.101.8.1': 2, '120.101.8.153': 1, '120.101.8.38': 1, '120.101.8.122': 1, '120.101.8.96': 1, '120.101.8.184': 1, '120.101.8.15': 4, '120.101.8.107': 2, '120.101.8.88': 1, '120.101.8.12': 1, '120.101.8.95': 2, '120.101.8.141': 1, '120.101.8.165': 1, '120.101.8.248': 1, '120.101.8.246': 1}\n"
     ]
    }
   ],
   "source": [
    "dict={}\n",
    "maxaddr=0\n",
    "GW=''\n",
    "for key in arp:\n",
    "    dict[key]=dict.get(key,0)+1\n",
    "    if (maxaddr<dict[key]):\n",
    "        maxaddr=dict[key]\n",
    "        GW=key\n",
    "print(dict)"
   ]
  },
  {
   "cell_type": "code",
   "execution_count": 32,
   "metadata": {},
   "outputs": [
    {
     "data": {
      "text/plain": [
       "14"
      ]
     },
     "execution_count": 32,
     "metadata": {},
     "output_type": "execute_result"
    }
   ],
   "source": [
    "dict['120.101.8.254']"
   ]
  },
  {
   "cell_type": "code",
   "execution_count": 33,
   "metadata": {},
   "outputs": [
    {
     "data": {
      "text/plain": [
       "'120.101.8.254'"
      ]
     },
     "execution_count": 33,
     "metadata": {},
     "output_type": "execute_result"
    }
   ],
   "source": [
    "GW"
   ]
  },
  {
   "cell_type": "code",
   "execution_count": null,
   "metadata": {},
   "outputs": [],
   "source": []
  }
 ],
 "metadata": {
  "kernelspec": {
   "display_name": "Python 3",
   "language": "python",
   "name": "python3"
  },
  "language_info": {
   "codemirror_mode": {
    "name": "ipython",
    "version": 3
   },
   "file_extension": ".py",
   "mimetype": "text/x-python",
   "name": "python",
   "nbconvert_exporter": "python",
   "pygments_lexer": "ipython3",
   "version": "3.7.3"
  }
 },
 "nbformat": 4,
 "nbformat_minor": 2
}
